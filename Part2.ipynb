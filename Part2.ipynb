{
 "cells": [
  {
   "cell_type": "code",
   "execution_count": 1,
   "metadata": {},
   "outputs": [
    {
     "name": "stdout",
     "output_type": "stream",
     "text": [
      "Out: torch.Size([1, 2, 64, 64])\n"
     ]
    }
   ],
   "source": [
    "import torch\n",
    "from unet import UNet\n",
    "model = UNet(in_channels=1,\n",
    "             out_channels=2,\n",
    "             n_blocks=4,\n",
    "             start_filters=32,\n",
    "             activation='relu',\n",
    "             normalization='batch',\n",
    "             conv_mode='same',\n",
    "             dim=2)\n",
    "\n",
    "x = torch.randn(size=(1, 1, 64, 64), dtype=torch.float32)\n",
    "with torch.no_grad():\n",
    "    out = model(x)\n",
    "\n",
    "print(f'Out: {out.shape}')"
   ]
  },
  {
   "cell_type": "code",
   "execution_count": 2,
   "metadata": {},
   "outputs": [
    {
     "name": "stdout",
     "output_type": "stream",
     "text": [
      "----------------------------------------------------------------\n",
      "        Layer (type)               Output Shape         Param #\n",
      "================================================================\n",
      "            Conv2d-1           [-1, 32, 64, 64]             320\n",
      "              ReLU-2           [-1, 32, 64, 64]               0\n",
      "       BatchNorm2d-3           [-1, 32, 64, 64]              64\n",
      "            Conv2d-4           [-1, 32, 64, 64]           9,248\n",
      "              ReLU-5           [-1, 32, 64, 64]               0\n",
      "       BatchNorm2d-6           [-1, 32, 64, 64]              64\n",
      "         MaxPool2d-7           [-1, 32, 32, 32]               0\n",
      "         DownBlock-8  [[-1, 32, 32, 32], [-1, 32, 64, 64]]               0\n",
      "            Conv2d-9           [-1, 64, 32, 32]          18,496\n",
      "             ReLU-10           [-1, 64, 32, 32]               0\n",
      "      BatchNorm2d-11           [-1, 64, 32, 32]             128\n",
      "           Conv2d-12           [-1, 64, 32, 32]          36,928\n",
      "             ReLU-13           [-1, 64, 32, 32]               0\n",
      "      BatchNorm2d-14           [-1, 64, 32, 32]             128\n",
      "        MaxPool2d-15           [-1, 64, 16, 16]               0\n",
      "        DownBlock-16  [[-1, 64, 16, 16], [-1, 64, 32, 32]]               0\n",
      "           Conv2d-17          [-1, 128, 16, 16]          73,856\n",
      "             ReLU-18          [-1, 128, 16, 16]               0\n",
      "      BatchNorm2d-19          [-1, 128, 16, 16]             256\n",
      "           Conv2d-20          [-1, 128, 16, 16]         147,584\n",
      "             ReLU-21          [-1, 128, 16, 16]               0\n",
      "      BatchNorm2d-22          [-1, 128, 16, 16]             256\n",
      "        MaxPool2d-23            [-1, 128, 8, 8]               0\n",
      "        DownBlock-24  [[-1, 128, 8, 8], [-1, 128, 16, 16]]               0\n",
      "           Conv2d-25            [-1, 256, 8, 8]         295,168\n",
      "             ReLU-26            [-1, 256, 8, 8]               0\n",
      "      BatchNorm2d-27            [-1, 256, 8, 8]             512\n",
      "           Conv2d-28            [-1, 256, 8, 8]         590,080\n",
      "             ReLU-29            [-1, 256, 8, 8]               0\n",
      "      BatchNorm2d-30            [-1, 256, 8, 8]             512\n",
      "        DownBlock-31  [[-1, 256, 8, 8], [-1, 256, 8, 8]]               0\n",
      "  ConvTranspose2d-32          [-1, 128, 16, 16]         131,200\n",
      "             ReLU-33          [-1, 128, 16, 16]               0\n",
      "      BatchNorm2d-34          [-1, 128, 16, 16]             256\n",
      "      Concatenate-35          [-1, 256, 16, 16]               0\n",
      "           Conv2d-36          [-1, 128, 16, 16]         295,040\n",
      "             ReLU-37          [-1, 128, 16, 16]               0\n",
      "      BatchNorm2d-38          [-1, 128, 16, 16]             256\n",
      "           Conv2d-39          [-1, 128, 16, 16]         147,584\n",
      "             ReLU-40          [-1, 128, 16, 16]               0\n",
      "      BatchNorm2d-41          [-1, 128, 16, 16]             256\n",
      "          UpBlock-42          [-1, 128, 16, 16]               0\n",
      "  ConvTranspose2d-43           [-1, 64, 32, 32]          32,832\n",
      "             ReLU-44           [-1, 64, 32, 32]               0\n",
      "      BatchNorm2d-45           [-1, 64, 32, 32]             128\n",
      "      Concatenate-46          [-1, 128, 32, 32]               0\n",
      "           Conv2d-47           [-1, 64, 32, 32]          73,792\n",
      "             ReLU-48           [-1, 64, 32, 32]               0\n",
      "      BatchNorm2d-49           [-1, 64, 32, 32]             128\n",
      "           Conv2d-50           [-1, 64, 32, 32]          36,928\n",
      "             ReLU-51           [-1, 64, 32, 32]               0\n",
      "      BatchNorm2d-52           [-1, 64, 32, 32]             128\n",
      "          UpBlock-53           [-1, 64, 32, 32]               0\n",
      "  ConvTranspose2d-54           [-1, 32, 64, 64]           8,224\n",
      "             ReLU-55           [-1, 32, 64, 64]               0\n",
      "      BatchNorm2d-56           [-1, 32, 64, 64]              64\n",
      "      Concatenate-57           [-1, 64, 64, 64]               0\n",
      "           Conv2d-58           [-1, 32, 64, 64]          18,464\n",
      "             ReLU-59           [-1, 32, 64, 64]               0\n",
      "      BatchNorm2d-60           [-1, 32, 64, 64]              64\n",
      "           Conv2d-61           [-1, 32, 64, 64]           9,248\n",
      "             ReLU-62           [-1, 32, 64, 64]               0\n",
      "      BatchNorm2d-63           [-1, 32, 64, 64]              64\n",
      "          UpBlock-64           [-1, 32, 64, 64]               0\n",
      "           Conv2d-65            [-1, 2, 64, 64]              66\n",
      "================================================================\n",
      "Total params: 1,928,322\n",
      "Trainable params: 1,928,322\n",
      "Non-trainable params: 0\n",
      "----------------------------------------------------------------\n",
      "Input size (MB): 0.02\n",
      "Forward/backward pass size (MB): 45023.25\n",
      "Params size (MB): 7.36\n",
      "Estimated Total Size (MB): 45030.62\n",
      "----------------------------------------------------------------\n"
     ]
    }
   ],
   "source": [
    "from torchsummary import summary\n",
    "summary = summary(model, (1, 64, 64), device='cpu')"
   ]
  },
  {
   "cell_type": "code",
   "execution_count": 3,
   "metadata": {},
   "outputs": [
    {
     "name": "stdout",
     "output_type": "stream",
     "text": [
      "Level 1: 960.0\n",
      "Level 2: 480.0\n",
      "Level 3: 240.0\n",
      "Level 4: 120.0\n",
      "Level 5: 60.0\n",
      "Level 6: 30.0\n",
      "Level 7: 15.0\n",
      "Max-level: 7\n"
     ]
    }
   ],
   "source": [
    "shape = 1920\n",
    "\n",
    "\n",
    "def compute_max_depth(shape, max_depth=10, print_out=True):\n",
    "    shapes = []\n",
    "    shapes.append(shape)\n",
    "    for level in range(1, max_depth):\n",
    "        if shape % 2 ** level == 0 and shape / 2 ** level > 1:\n",
    "            shapes.append(shape / 2 ** level)\n",
    "            if print_out:\n",
    "                print(f'Level {level}: {shape / 2 ** level}')\n",
    "        else:\n",
    "            if print_out:\n",
    "                print(f'Max-level: {level - 1}')\n",
    "            break\n",
    "\n",
    "    return shapes\n",
    "\n",
    "\n",
    "out = compute_max_depth(shape, print_out=True, max_depth=10)"
   ]
  },
  {
   "cell_type": "code",
   "execution_count": 4,
   "metadata": {
    "jupyter": {
     "outputs_hidden": false
    },
    "pycharm": {
     "name": "#%%\n"
    }
   },
   "outputs": [
    {
     "data": {
      "text/plain": [
       "{256: [256, 128.0, 64.0, 32.0, 16.0, 8.0, 4.0, 2.0],\n",
       " 384: [384, 192.0, 96.0, 48.0, 24.0, 12.0, 6.0, 3.0],\n",
       " 512: [512, 256.0, 128.0, 64.0, 32.0, 16.0, 8.0, 4.0]}"
      ]
     },
     "execution_count": 4,
     "metadata": {},
     "output_type": "execute_result"
    }
   ],
   "source": [
    "low = 10\n",
    "high = 512\n",
    "depth = 8\n",
    "\n",
    "\n",
    "def compute_possible_shapes(low, high, depth):\n",
    "    possible_shapes = {}\n",
    "    for shape in range(low, high + 1):\n",
    "        shapes = compute_max_depth(shape,\n",
    "                                   max_depth=depth,\n",
    "                                   print_out=False)\n",
    "        if len(shapes) == depth:\n",
    "            possible_shapes[shape] = shapes\n",
    "\n",
    "    return possible_shapes\n",
    "possible_shapes = compute_possible_shapes(low, high, depth)\n",
    "possible_shapes"
   ]
  },
  {
   "cell_type": "code",
   "execution_count": 9,
   "metadata": {},
   "outputs": [
    {
     "data": {
      "text/plain": [
       "{256: [256, 128.0, 64.0, 32.0, 16.0, 8.0, 4.0, 2.0],\n",
       " 384: [384, 192.0, 96.0, 48.0, 24.0, 12.0, 6.0, 3.0],\n",
       " 512: [512, 256.0, 128.0, 64.0, 32.0, 16.0, 8.0, 4.0]}"
      ]
     },
     "execution_count": 9,
     "metadata": {},
     "output_type": "execute_result"
    }
   ],
   "source": [
    "low = 10\n",
    "high = 512\n",
    "depth = 8\n",
    "\n",
    "\n",
    "def compute_possible_shapes(low, high, depth):\n",
    "    possible_shapes = {}\n",
    "    for shape in range(low, high + 1):\n",
    "        shapes = compute_max_depth(shape,\n",
    "                                   max_depth=depth,\n",
    "                                   print_out=False)\n",
    "        if len(shapes) == depth:\n",
    "            possible_shapes[shape] = shapes\n",
    "\n",
    "    return possible_shapes\n",
    "possible_shapes = compute_possible_shapes(low, high, depth)\n",
    "possible_shapes"
   ]
  },
  {
   "cell_type": "code",
   "execution_count": null,
   "metadata": {},
   "outputs": [],
   "source": []
  }
 ],
 "metadata": {
  "kernelspec": {
   "display_name": "Python 3",
   "language": "python",
   "name": "python3"
  },
  "language_info": {
   "codemirror_mode": {
    "name": "ipython",
    "version": 3
   },
   "file_extension": ".py",
   "mimetype": "text/x-python",
   "name": "python",
   "nbconvert_exporter": "python",
   "pygments_lexer": "ipython3",
   "version": "3.8.8"
  }
 },
 "nbformat": 4,
 "nbformat_minor": 4
}
