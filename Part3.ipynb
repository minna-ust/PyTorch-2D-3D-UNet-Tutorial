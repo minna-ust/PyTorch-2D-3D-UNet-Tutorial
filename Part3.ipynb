{
 "cells": [
  {
   "cell_type": "markdown",
   "metadata": {
    "ein.tags": "worksheet-0",
    "slideshow": {
     "slide_type": "-"
    }
   },
   "source": [
    "\n",
    "#  Training with customdataset 1"
   ]
  },
  {
   "cell_type": "code",
   "execution_count": 14,
   "metadata": {
    "autoscroll": false,
    "collapsed": false,
    "ein.hycell": false,
    "ein.tags": "worksheet-0",
    "slideshow": {
     "slide_type": "-"
    }
   },
   "outputs": [],
   "source": [
    "# Imports\n",
    "import pathlib\n",
    "import torch\n",
    "\n",
    "import albumentations\n",
    "import numpy as np\n",
    "from sklearn.model_selection import train_test_split\n",
    "from torch.utils.data import DataLoader\n",
    "from skimage.transform import resize\n",
    "from customdatasets import SegmentationDataSet1\n",
    "from transformations import ComposeDouble, AlbuSeg2d, FunctionWrapperDouble, normalize_01, create_dense_target\n",
    "from unet import UNet\n",
    "from trainer import Trainer\n",
    "\n",
    "\n",
    "# root directory\n",
    "root = pathlib.Path.cwd() / 'Carvana'\n",
    "\n",
    "\n",
    "def get_filenames_of_path(path: pathlib.Path, ext: str = '*'):\n",
    "    \"\"\"Returns a list of files in a directory/path. Uses pathlib.\"\"\"\n",
    "    filenames = [file for file in path.glob(ext) if file.is_file()]\n",
    "    return filenames\n",
    "\n",
    "\n",
    "# input and target files\n",
    "inputs = get_filenames_of_path(root / 'Input')\n",
    "targets = get_filenames_of_path(root / 'Target')\n",
    "\n",
    "# training transformations and augmentations\n",
    "transforms_training = ComposeDouble([\n",
    "    FunctionWrapperDouble(resize,\n",
    "                          input=True,\n",
    "                          target=False,\n",
    "                          output_shape=(128, 128, 3)),\n",
    "    FunctionWrapperDouble(resize,\n",
    "                          input=False,\n",
    "                          target=True,\n",
    "                          output_shape=(128, 128),\n",
    "                          order=0,\n",
    "                          anti_aliasing=False,\n",
    "                          preserve_range=True),\n",
    "    AlbuSeg2d(albumentations.HorizontalFlip(p=0.5)),\n",
    "    FunctionWrapperDouble(create_dense_target, input=False, target=True),\n",
    "    FunctionWrapperDouble(np.moveaxis, input=True, target=False, source=-1, destination=0),\n",
    "    FunctionWrapperDouble(normalize_01)\n",
    "])\n",
    "\n",
    "# validation transformations\n",
    "transforms_validation = ComposeDouble([\n",
    "    FunctionWrapperDouble(resize,\n",
    "                          input=True,\n",
    "                          target=False,\n",
    "                          output_shape=(128, 128, 3)),\n",
    "    FunctionWrapperDouble(resize,\n",
    "                          input=False,\n",
    "                          target=True,\n",
    "                          output_shape=(128, 128),\n",
    "                          order=0,\n",
    "                          anti_aliasing=False,\n",
    "                          preserve_range=True),\n",
    "    FunctionWrapperDouble(create_dense_target, input=False, target=True),\n",
    "    FunctionWrapperDouble(np.moveaxis, input=True, target=False, source=-1, destination=0),\n",
    "    FunctionWrapperDouble(normalize_01)\n",
    "])\n",
    "\n",
    "# random seed\n",
    "random_seed = 42\n",
    "\n",
    "# split dataset into training set and validation set\n",
    "train_size = 0.8  # 80:20 split\n",
    "\n",
    "inputs_train, inputs_valid = train_test_split(\n",
    "    inputs,\n",
    "    random_state=random_seed,\n",
    "    train_size=train_size,\n",
    "    shuffle=True)\n",
    "\n",
    "targets_train, targets_valid = train_test_split(\n",
    "    targets,\n",
    "    random_state=random_seed,\n",
    "    train_size=train_size,\n",
    "    shuffle=True)\n",
    "\n",
    "# inputs_train, inputs_valid = inputs[:80], inputs[80:]\n",
    "# targets_train, targets_valid = targets[:80], targets[:80]\n",
    "\n",
    "# dataset training\n",
    "dataset_train = SegmentationDataSet1(inputs=inputs_train,\n",
    "                                    targets=targets_train,\n",
    "                                    transform=transforms_training)\n",
    "\n",
    "# dataset validation\n",
    "dataset_valid = SegmentationDataSet1(inputs=inputs_valid,\n",
    "                                    targets=targets_valid,\n",
    "                                    transform=transforms_validation)\n",
    "\n",
    "# dataloader training\n",
    "dataloader_training = DataLoader(dataset=dataset_train,\n",
    "                                 batch_size=2,\n",
    "                                 shuffle=True)\n",
    "\n",
    "# dataloader validation\n",
    "dataloader_validation = DataLoader(dataset=dataset_valid,\n",
    "                                   batch_size=2,\n",
    "                                   shuffle=True)"
   ]
  },
  {
   "cell_type": "code",
   "execution_count": 2,
   "metadata": {
    "autoscroll": false,
    "collapsed": false,
    "ein.hycell": false,
    "ein.tags": "worksheet-0",
    "slideshow": {
     "slide_type": "-"
    }
   },
   "outputs": [],
   "source": [
    "lrf.plot()"
   ]
  },
  {
   "cell_type": "code",
   "execution_count": 3,
   "metadata": {
    "autoscroll": false,
    "collapsed": false,
    "ein.hycell": false,
    "ein.tags": "worksheet-0",
    "slideshow": {
     "slide_type": "-"
    }
   },
   "outputs": [
    {
     "name": "stderr",
     "output_type": "stream",
     "text": [
      "WARNING: QStandardPaths: XDG_RUNTIME_DIR not set, defaulting to '/tmp/runtime-root'\n"
     ]
    },
    {
     "name": "stderr",
     "output_type": "stream",
     "text": [
      "WARNING: QStandardPaths: XDG_RUNTIME_DIR not set, defaulting to '/tmp/runtime-root'\n"
     ]
    }
   ],
   "source": [
    "lrf.plot()"
   ]
  },
  {
   "cell_type": "code",
   "execution_count": 4,
   "metadata": {
    "autoscroll": false,
    "collapsed": false,
    "ein.hycell": false,
    "ein.tags": "worksheet-0",
    "slideshow": {
     "slide_type": "-"
    }
   },
   "outputs": [],
   "source": [
    "# open napari instance for validation dataset\n",
    "# navigate with 'n' for next and 'b' for back on the keyboard\n",
    "dataset_viewer_validation.napari()"
   ]
  },
  {
   "cell_type": "code",
   "execution_count": 5,
   "metadata": {
    "autoscroll": false,
    "collapsed": false,
    "ein.hycell": false,
    "ein.tags": "worksheet-0",
    "slideshow": {
     "slide_type": "-"
    }
   },
   "outputs": [
    {
     "data": {
      "text/plain": [
       "Progress:   0%|          | 0/2 [00:00<?, ?it/s]"
      ]
     },
     "metadata": {},
     "output_type": "display_data"
    },
    {
     "name": "stdout",
     "output_type": "stream",
     "text": [
      "debut1: ******************: i:  0\n"
     ]
    },
    {
     "data": {
      "text/plain": [
       "Training:   0%|          | 0/38 [00:00<?, ?it/s]"
      ]
     },
     "metadata": {},
     "output_type": "display_data"
    },
    {
     "name": "stdout",
     "output_type": "stream",
     "text": [
      "debug: ************************ i:  0\n",
      "loss_value:  1.105824589729309\n"
     ]
    },
    {
     "name": "stdout",
     "output_type": "stream",
     "text": [
      "debug: ************************ i:  1\n",
      "loss_value:  0.8571251034736633\n"
     ]
    },
    {
     "name": "stdout",
     "output_type": "stream",
     "text": [
      "debug: ************************ i:  2\n",
      "loss_value:  0.787492036819458\n"
     ]
    },
    {
     "name": "stdout",
     "output_type": "stream",
     "text": [
      "debug: ************************ i:  3\n",
      "loss_value:  0.7076106071472168\n"
     ]
    },
    {
     "name": "stdout",
     "output_type": "stream",
     "text": [
      "debug: ************************ i:  4\n",
      "loss_value:  0.7883661389350891\n"
     ]
    },
    {
     "name": "stdout",
     "output_type": "stream",
     "text": [
      "debug: ************************ i:  5\n",
      "loss_value:  0.6890172362327576\n"
     ]
    },
    {
     "name": "stdout",
     "output_type": "stream",
     "text": [
      "debug: ************************ i:  6\n",
      "loss_value:  0.7915973663330078\n"
     ]
    },
    {
     "name": "stdout",
     "output_type": "stream",
     "text": [
      "debug: ************************ i:  7\n",
      "loss_value:  0.7193016409873962\n"
     ]
    },
    {
     "name": "stdout",
     "output_type": "stream",
     "text": [
      "debug: ************************ i:  8\n",
      "loss_value:  0.74188232421875\n"
     ]
    },
    {
     "name": "stdout",
     "output_type": "stream",
     "text": [
      "debug: ************************ i:  9\n",
      "loss_value:  0.6433687806129456\n"
     ]
    },
    {
     "name": "stdout",
     "output_type": "stream",
     "text": [
      "debug: ************************ i:  10\n",
      "loss_value:  0.6298946738243103\n"
     ]
    },
    {
     "name": "stdout",
     "output_type": "stream",
     "text": [
      "debug: ************************ i:  11\n",
      "loss_value:  0.612417459487915\n"
     ]
    },
    {
     "name": "stdout",
     "output_type": "stream",
     "text": [
      "debug: ************************ i:  12\n",
      "loss_value:  0.6288354396820068\n"
     ]
    },
    {
     "name": "stdout",
     "output_type": "stream",
     "text": [
      "debug: ************************ i:  13\n",
      "loss_value:  0.6048170328140259\n"
     ]
    },
    {
     "name": "stdout",
     "output_type": "stream",
     "text": [
      "debug: ************************ i:  14\n",
      "loss_value:  0.5429078340530396\n"
     ]
    },
    {
     "name": "stdout",
     "output_type": "stream",
     "text": [
      "debug: ************************ i:  15\n",
      "loss_value:  0.5584844350814819\n"
     ]
    },
    {
     "name": "stdout",
     "output_type": "stream",
     "text": [
      "debug: ************************ i:  16\n",
      "loss_value:  0.6489334106445312\n"
     ]
    },
    {
     "name": "stdout",
     "output_type": "stream",
     "text": [
      "debug: ************************ i:  17\n",
      "loss_value:  0.5211887359619141\n"
     ]
    },
    {
     "name": "stdout",
     "output_type": "stream",
     "text": [
      "debug: ************************ i:  18\n",
      "loss_value:  0.5209659337997437\n"
     ]
    },
    {
     "name": "stdout",
     "output_type": "stream",
     "text": [
      "debug: ************************ i:  19\n",
      "loss_value:  0.5027662515640259\n"
     ]
    },
    {
     "name": "stdout",
     "output_type": "stream",
     "text": [
      "debug: ************************ i:  20\n",
      "loss_value:  0.5819487571716309\n"
     ]
    },
    {
     "name": "stdout",
     "output_type": "stream",
     "text": [
      "debug: ************************ i:  21\n",
      "loss_value:  0.5790315270423889\n"
     ]
    },
    {
     "name": "stdout",
     "output_type": "stream",
     "text": [
      "debug: ************************ i:  22\n",
      "loss_value:  0.4875122010707855\n"
     ]
    },
    {
     "name": "stdout",
     "output_type": "stream",
     "text": [
      "debug: ************************ i:  23\n",
      "loss_value:  0.5184269547462463\n"
     ]
    },
    {
     "name": "stdout",
     "output_type": "stream",
     "text": [
      "debug: ************************ i:  24\n",
      "loss_value:  0.49982041120529175\n"
     ]
    },
    {
     "name": "stdout",
     "output_type": "stream",
     "text": [
      "debug: ************************ i:  25\n",
      "loss_value:  0.4770689606666565\n"
     ]
    },
    {
     "name": "stdout",
     "output_type": "stream",
     "text": [
      "debug: ************************ i:  26\n",
      "loss_value:  0.41619816422462463\n"
     ]
    },
    {
     "name": "stdout",
     "output_type": "stream",
     "text": [
      "debug: ************************ i:  27\n",
      "loss_value:  0.5731850862503052\n"
     ]
    },
    {
     "name": "stdout",
     "output_type": "stream",
     "text": [
      "debug: ************************ i:  28\n",
      "loss_value:  0.4528719186782837\n"
     ]
    },
    {
     "name": "stdout",
     "output_type": "stream",
     "text": [
      "debug: ************************ i:  29\n",
      "loss_value:  0.5194214582443237\n"
     ]
    },
    {
     "name": "stdout",
     "output_type": "stream",
     "text": [
      "debug: ************************ i:  30\n",
      "loss_value:  0.5104613900184631\n"
     ]
    },
    {
     "name": "stdout",
     "output_type": "stream",
     "text": [
      "debug: ************************ i:  31\n",
      "loss_value:  0.38951271772384644\n"
     ]
    },
    {
     "name": "stdout",
     "output_type": "stream",
     "text": [
      "debug: ************************ i:  32\n",
      "loss_value:  0.430901437997818\n"
     ]
    },
    {
     "name": "stdout",
     "output_type": "stream",
     "text": [
      "debug: ************************ i:  33\n",
      "loss_value:  0.4378446638584137\n"
     ]
    },
    {
     "name": "stdout",
     "output_type": "stream",
     "text": [
      "debug: ************************ i:  34\n",
      "loss_value:  0.39963507652282715\n"
     ]
    },
    {
     "name": "stdout",
     "output_type": "stream",
     "text": [
      "debug: ************************ i:  35\n",
      "loss_value:  0.42268288135528564\n"
     ]
    },
    {
     "name": "stdout",
     "output_type": "stream",
     "text": [
      "debug: ************************ i:  36\n",
      "loss_value:  0.4161814749240875\n"
     ]
    },
    {
     "name": "stdout",
     "output_type": "stream",
     "text": [
      "debug: ************************ i:  37\n",
      "loss_value:  0.419813334941864\n"
     ]
    },
    {
     "data": {
      "text/plain": [
       "Validation:   0%|          | 0/10 [00:00<?, ?it/s]"
      ]
     },
     "metadata": {},
     "output_type": "display_data"
    },
    {
     "name": "stdout",
     "output_type": "stream",
     "text": [
      "debut1: ******************: i:  1\n"
     ]
    },
    {
     "data": {
      "text/plain": [
       "Training:   0%|          | 0/38 [00:00<?, ?it/s]"
      ]
     },
     "metadata": {},
     "output_type": "display_data"
    },
    {
     "name": "stdout",
     "output_type": "stream",
     "text": [
      "debug: ************************ i:  0\n",
      "loss_value:  0.469500333070755\n"
     ]
    },
    {
     "name": "stdout",
     "output_type": "stream",
     "text": [
      "debug: ************************ i:  1\n",
      "loss_value:  0.3849108815193176\n"
     ]
    },
    {
     "name": "stdout",
     "output_type": "stream",
     "text": [
      "debug: ************************ i:  2\n",
      "loss_value:  0.4047730565071106\n"
     ]
    },
    {
     "name": "stdout",
     "output_type": "stream",
     "text": [
      "debug: ************************ i:  3\n",
      "loss_value:  0.3561212420463562\n"
     ]
    },
    {
     "name": "stdout",
     "output_type": "stream",
     "text": [
      "debug: ************************ i:  4\n",
      "loss_value:  0.3748166859149933\n"
     ]
    },
    {
     "name": "stdout",
     "output_type": "stream",
     "text": [
      "debug: ************************ i:  5\n",
      "loss_value:  0.35984987020492554\n"
     ]
    },
    {
     "name": "stdout",
     "output_type": "stream",
     "text": [
      "debug: ************************ i:  6\n",
      "loss_value:  0.36337676644325256\n"
     ]
    },
    {
     "name": "stdout",
     "output_type": "stream",
     "text": [
      "debug: ************************ i:  7\n",
      "loss_value:  0.41514572501182556\n"
     ]
    },
    {
     "name": "stdout",
     "output_type": "stream",
     "text": [
      "debug: ************************ i:  8\n",
      "loss_value:  0.3775252401828766\n"
     ]
    },
    {
     "name": "stdout",
     "output_type": "stream",
     "text": [
      "debug: ************************ i:  9\n",
      "loss_value:  0.33571651577949524\n"
     ]
    },
    {
     "name": "stdout",
     "output_type": "stream",
     "text": [
      "debug: ************************ i:  10\n",
      "loss_value:  0.28874608874320984\n"
     ]
    },
    {
     "name": "stdout",
     "output_type": "stream",
     "text": [
      "debug: ************************ i:  11\n",
      "loss_value:  0.32822030782699585\n"
     ]
    },
    {
     "name": "stdout",
     "output_type": "stream",
     "text": [
      "debug: ************************ i:  12\n",
      "loss_value:  0.27891844511032104\n"
     ]
    },
    {
     "name": "stdout",
     "output_type": "stream",
     "text": [
      "debug: ************************ i:  13\n",
      "loss_value:  0.34827035665512085\n"
     ]
    },
    {
     "name": "stdout",
     "output_type": "stream",
     "text": [
      "debug: ************************ i:  14\n",
      "loss_value:  0.38035500049591064\n"
     ]
    },
    {
     "name": "stdout",
     "output_type": "stream",
     "text": [
      "debug: ************************ i:  15\n",
      "loss_value:  0.3295643925666809\n"
     ]
    },
    {
     "name": "stdout",
     "output_type": "stream",
     "text": [
      "debug: ************************ i:  16\n",
      "loss_value:  0.3833068907260895\n"
     ]
    },
    {
     "name": "stdout",
     "output_type": "stream",
     "text": [
      "debug: ************************ i:  17\n",
      "loss_value:  0.37321045994758606\n"
     ]
    },
    {
     "name": "stdout",
     "output_type": "stream",
     "text": [
      "debug: ************************ i:  18\n",
      "loss_value:  0.3683726191520691\n"
     ]
    },
    {
     "name": "stdout",
     "output_type": "stream",
     "text": [
      "debug: ************************ i:  19\n",
      "loss_value:  0.31396934390068054\n"
     ]
    },
    {
     "name": "stdout",
     "output_type": "stream",
     "text": [
      "debug: ************************ i:  20\n",
      "loss_value:  0.3031963109970093\n"
     ]
    },
    {
     "name": "stdout",
     "output_type": "stream",
     "text": [
      "debug: ************************ i:  21\n",
      "loss_value:  0.2836092412471771\n"
     ]
    },
    {
     "name": "stdout",
     "output_type": "stream",
     "text": [
      "debug: ************************ i:  22\n",
      "loss_value:  0.26359468698501587\n"
     ]
    },
    {
     "name": "stdout",
     "output_type": "stream",
     "text": [
      "debug: ************************ i:  23\n",
      "loss_value:  0.26624199748039246\n"
     ]
    },
    {
     "name": "stdout",
     "output_type": "stream",
     "text": [
      "debug: ************************ i:  24\n",
      "loss_value:  0.2289363145828247\n"
     ]
    },
    {
     "name": "stdout",
     "output_type": "stream",
     "text": [
      "debug: ************************ i:  25\n",
      "loss_value:  0.2400210052728653\n"
     ]
    },
    {
     "name": "stdout",
     "output_type": "stream",
     "text": [
      "debug: ************************ i:  26\n",
      "loss_value:  0.2724394202232361\n"
     ]
    },
    {
     "name": "stdout",
     "output_type": "stream",
     "text": [
      "debug: ************************ i:  27\n",
      "loss_value:  0.3439943194389343\n"
     ]
    },
    {
     "name": "stdout",
     "output_type": "stream",
     "text": [
      "debug: ************************ i:  28\n",
      "loss_value:  0.2576870024204254\n"
     ]
    },
    {
     "name": "stdout",
     "output_type": "stream",
     "text": [
      "debug: ************************ i:  29\n",
      "loss_value:  0.270292192697525\n"
     ]
    },
    {
     "name": "stdout",
     "output_type": "stream",
     "text": [
      "debug: ************************ i:  30\n",
      "loss_value:  0.30250993371009827\n"
     ]
    },
    {
     "name": "stdout",
     "output_type": "stream",
     "text": [
      "debug: ************************ i:  31\n",
      "loss_value:  0.27536407113075256\n"
     ]
    },
    {
     "name": "stdout",
     "output_type": "stream",
     "text": [
      "debug: ************************ i:  32\n",
      "loss_value:  0.26732078194618225\n"
     ]
    },
    {
     "name": "stdout",
     "output_type": "stream",
     "text": [
      "debug: ************************ i:  33\n",
      "loss_value:  0.23387397825717926\n"
     ]
    },
    {
     "name": "stdout",
     "output_type": "stream",
     "text": [
      "debug: ************************ i:  34\n",
      "loss_value:  0.2279788702726364\n"
     ]
    },
    {
     "name": "stdout",
     "output_type": "stream",
     "text": [
      "debug: ************************ i:  35\n",
      "loss_value:  0.27611806988716125\n"
     ]
    },
    {
     "name": "stdout",
     "output_type": "stream",
     "text": [
      "debug: ************************ i:  36\n",
      "loss_value:  0.21604107320308685\n"
     ]
    },
    {
     "name": "stdout",
     "output_type": "stream",
     "text": [
      "debug: ************************ i:  37\n",
      "loss_value:  0.22532957792282104\n"
     ]
    },
    {
     "data": {
      "text/plain": [
       "Validation:   0%|          | 0/10 [00:00<?, ?it/s]"
      ]
     },
     "metadata": {},
     "output_type": "display_data"
    }
   ],
   "source": [
    "# device\n",
    "if torch.cuda.is_available():\n",
    "    device = torch.device('cuda')\n",
    "else:\n",
    "    device = torch.device('cpu')\n",
    "\n",
    "# model\n",
    "model = UNet(in_channels=3,\n",
    "             out_channels=2,\n",
    "             n_blocks=4,\n",
    "             start_filters=32,\n",
    "             activation='relu',\n",
    "             normalization='batch',\n",
    "             conv_mode='same',\n",
    "             dim=2).to(device)\n",
    "\n",
    "# criterion\n",
    "criterion = torch.nn.CrossEntropyLoss()\n",
    "\n",
    "# optimizer\n",
    "optimizer = torch.optim.SGD(model.parameters(), lr=0.01)\n",
    "\n",
    "# trainer\n",
    "trainer = Trainer(model=model,\n",
    "                  device=device,\n",
    "                  criterion=criterion,\n",
    "                  optimizer=optimizer,\n",
    "                  training_DataLoader=dataloader_training,\n",
    "                  validation_DataLoader=dataloader_validation,\n",
    "                  lr_scheduler=None,\n",
    "                  epochs=2,\n",
    "                  epoch=0,\n",
    "                  notebook=True)\n",
    "\n",
    "# start training\n",
    "training_losses, validation_losses, lr_rates = trainer.run_trainer()"
   ]
  },
  {
   "cell_type": "markdown",
   "metadata": {
    "ein.tags": "worksheet-0",
    "slideshow": {
     "slide_type": "-"
    }
   },
   "source": [
    "# Training with customdataset 2"
   ]
  },
  {
   "cell_type": "code",
   "execution_count": 6,
   "metadata": {
    "autoscroll": false,
    "collapsed": false,
    "ein.hycell": false,
    "ein.tags": "worksheet-0",
    "slideshow": {
     "slide_type": "-"
    }
   },
   "outputs": [
    {
     "data": {
      "text/plain": [
       "Caching:   0%|          | 0/76 [00:00<?, ?it/s]"
      ]
     },
     "metadata": {},
     "output_type": "display_data"
    },
    {
     "data": {
      "text/plain": [
       "Caching:   0%|          | 0/20 [00:00<?, ?it/s]"
      ]
     },
     "metadata": {},
     "output_type": "display_data"
    }
   ],
   "source": [
    "# Imports\n",
    "import pathlib\n",
    "from transformations import ComposeDouble, normalize_01, AlbuSeg2d, FunctionWrapperDouble, create_dense_target\n",
    "from sklearn.model_selection import train_test_split\n",
    "from customdatasets import SegmentationDataSet2\n",
    "import torch\n",
    "import numpy as np\n",
    "from unet import UNet\n",
    "from trainer import Trainer\n",
    "from torch.utils.data import DataLoader\n",
    "from skimage.transform import resize\n",
    "import albumentations\n",
    "\n",
    "# root directory\n",
    "root = pathlib.Path.cwd() / 'Carvana'\n",
    "def get_filenames_of_path(path: pathlib.Path, ext: str = '*'):\n",
    "    \"\"\"Returns a list of files in a directory/path. Uses pathlib.\"\"\"\n",
    "    filenames = [file for file in path.glob(ext) if file.is_file()]\n",
    "    return filenames\n",
    "\n",
    "# input and target files\n",
    "inputs = get_filenames_of_path(root / 'Input')\n",
    "targets = get_filenames_of_path(root / 'Target')\n",
    "\n",
    "# pre-transformations\n",
    "pre_transforms = ComposeDouble([\n",
    "    FunctionWrapperDouble(resize,\n",
    "                          input=True,\n",
    "                          target=False,\n",
    "                          output_shape=(128, 128, 3)),\n",
    "    FunctionWrapperDouble(resize,\n",
    "                          input=False,\n",
    "                          target=True,\n",
    "                          output_shape=(128, 128),\n",
    "                          order=0,\n",
    "                          anti_aliasing=False,\n",
    "                          preserve_range=True),\n",
    "])\n",
    "\n",
    "# training transformations and augmentations\n",
    "transforms_training = ComposeDouble([\n",
    "    AlbuSeg2d(albumentations.HorizontalFlip(p=0.5)),\n",
    "    FunctionWrapperDouble(create_dense_target, input=False, target=True),\n",
    "    FunctionWrapperDouble(np.moveaxis, input=True, target=False, source=-1, destination=0),\n",
    "    FunctionWrapperDouble(normalize_01)\n",
    "])\n",
    "\n",
    "# validation transformations\n",
    "transforms_validation = ComposeDouble([\n",
    "    FunctionWrapperDouble(resize,\n",
    "                          input=True,\n",
    "                          target=False,\n",
    "                          output_shape=(128, 128, 3)),\n",
    "    FunctionWrapperDouble(resize,\n",
    "                          input=False,\n",
    "                          target=True,\n",
    "                          output_shape=(128, 128),\n",
    "                          order=0,\n",
    "                          anti_aliasing=False,\n",
    "                          preserve_range=True),\n",
    "    FunctionWrapperDouble(create_dense_target, input=False, target=True),\n",
    "    FunctionWrapperDouble(np.moveaxis, input=True, target=False, source=-1, destination=0),\n",
    "    FunctionWrapperDouble(normalize_01)\n",
    "])\n",
    "\n",
    "# random seed\n",
    "random_seed = 42\n",
    "\n",
    "# split dataset into training set and validation set\n",
    "train_size = 0.8  # 80:20 split\n",
    "\n",
    "inputs_train, inputs_valid = train_test_split(\n",
    "    inputs,\n",
    "    random_state=random_seed,\n",
    "    train_size=train_size,\n",
    "    shuffle=True)\n",
    "\n",
    "targets_train, targets_valid = train_test_split(\n",
    "    targets,\n",
    "    random_state=random_seed,\n",
    "    train_size=train_size,\n",
    "    shuffle=True)\n",
    "\n",
    "# inputs_train, inputs_valid = inputs[:80], inputs[80:]\n",
    "# targets_train, targets_valid = targets[:80], targets[:80]\n",
    "\n",
    "# dataset training\n",
    "dataset_train = SegmentationDataSet2(inputs=inputs_train,\n",
    "                                    targets=targets_train,\n",
    "                                    transform=transforms_training,\n",
    "                                    use_cache=True,\n",
    "                                    pre_transform=pre_transforms)\n",
    "\n",
    "# dataset validation\n",
    "dataset_valid = SegmentationDataSet2(inputs=inputs_valid,\n",
    "                                    targets=targets_valid,\n",
    "                                    transform=transforms_validation,\n",
    "                                    use_cache=True,\n",
    "                                    pre_transform=pre_transforms)\n",
    "\n",
    "# dataloader training\n",
    "dataloader_training = DataLoader(dataset=dataset_train,\n",
    "                                 batch_size=2,\n",
    "                                 shuffle=True)\n",
    "\n",
    "# dataloader validation\n",
    "dataloader_validation = DataLoader(dataset=dataset_valid,\n",
    "                                   batch_size=2,\n",
    "                                   shuffle=True)\n"
   ]
  },
  {
   "cell_type": "code",
   "execution_count": 7,
   "metadata": {
    "autoscroll": false,
    "collapsed": false,
    "ein.hycell": false,
    "ein.tags": "worksheet-0",
    "slideshow": {
     "slide_type": "-"
    }
   },
   "outputs": [],
   "source": [
    "# create DatasetViewer instances\n",
    "from visual import DatasetViewer\n",
    "dataset_viewer_training = DatasetViewer(dataset_train)\n",
    "dataset_viewer_validation = DatasetViewer(dataset_valid)"
   ]
  },
  {
   "cell_type": "code",
   "execution_count": 8,
   "metadata": {
    "autoscroll": false,
    "collapsed": false,
    "ein.hycell": false,
    "ein.tags": "worksheet-0",
    "slideshow": {
     "slide_type": "-"
    }
   },
   "outputs": [
    {
     "name": "stderr",
     "output_type": "stream",
     "text": [
      "WARNING: QStandardPaths: XDG_RUNTIME_DIR not set, defaulting to '/tmp/runtime-root'\n"
     ]
    },
    {
     "name": "stderr",
     "output_type": "stream",
     "text": [
      "WARNING: QStandardPaths: XDG_RUNTIME_DIR not set, defaulting to '/tmp/runtime-root'\n"
     ]
    }
   ],
   "source": [
    "# open napari instance for training dataset\n",
    "# navigate with 'n' for next and 'b' for back on the keyboard\n",
    "dataset_viewer_training.napari()"
   ]
  },
  {
   "cell_type": "code",
   "execution_count": 9,
   "metadata": {
    "autoscroll": false,
    "collapsed": false,
    "ein.hycell": false,
    "ein.tags": "worksheet-0",
    "slideshow": {
     "slide_type": "-"
    }
   },
   "outputs": [],
   "source": [
    "# open napari instance for validation dataset\n",
    "# navigate with 'n' for next and 'b' for back on the keyboard\n",
    "dataset_viewer_validation.napari()"
   ]
  },
  {
   "cell_type": "code",
   "execution_count": 10,
   "metadata": {
    "autoscroll": false,
    "collapsed": false,
    "ein.hycell": false,
    "ein.tags": "worksheet-0",
    "slideshow": {
     "slide_type": "-"
    }
   },
   "outputs": [
    {
     "data": {
      "text/plain": [
       "Progress:   0%|          | 0/10 [00:00<?, ?it/s]"
      ]
     },
     "metadata": {},
     "output_type": "display_data"
    },
    {
     "name": "stdout",
     "output_type": "stream",
     "text": [
      "debut1: ******************: i:  0\n"
     ]
    },
    {
     "data": {
      "text/plain": [
       "Training:   0%|          | 0/38 [00:00<?, ?it/s]"
      ]
     },
     "metadata": {},
     "output_type": "display_data"
    },
    {
     "name": "stdout",
     "output_type": "stream",
     "text": [
      "debug: ************************ i:  0\n",
      "loss_value:  1.0030770301818848\n",
      "debug: ************************ i:  1\n",
      "loss_value:  0.9241324067115784\n"
     ]
    },
    {
     "name": "stdout",
     "output_type": "stream",
     "text": [
      "debug: ************************ i:  2\n",
      "loss_value:  0.8708378076553345\n",
      "debug: ************************ i:  3\n",
      "loss_value:  0.816340982913971\n"
     ]
    },
    {
     "name": "stdout",
     "output_type": "stream",
     "text": [
      "debug: ************************ i:  4\n",
      "loss_value:  0.8046272397041321\n",
      "debug: ************************ i:  5\n",
      "loss_value:  0.7733401656150818\n"
     ]
    },
    {
     "name": "stdout",
     "output_type": "stream",
     "text": [
      "debug: ************************ i:  6\n",
      "loss_value:  0.7614906430244446\n",
      "debug: ************************ i:  7\n",
      "loss_value:  0.6847642660140991\n"
     ]
    },
    {
     "name": "stdout",
     "output_type": "stream",
     "text": [
      "debug: ************************ i:  8\n",
      "loss_value:  0.6784585118293762\n"
     ]
    },
    {
     "name": "stdout",
     "output_type": "stream",
     "text": [
      "debug: ************************ i:  9\n",
      "loss_value:  0.6617327332496643\n"
     ]
    },
    {
     "name": "stdout",
     "output_type": "stream",
     "text": [
      "debug: ************************ i:  10\n",
      "loss_value:  0.6674027442932129\n"
     ]
    },
    {
     "name": "stdout",
     "output_type": "stream",
     "text": [
      "debug: ************************ i:  11\n",
      "loss_value:  0.556259274482727\n"
     ]
    },
    {
     "name": "stdout",
     "output_type": "stream",
     "text": [
      "debug: ************************ i:  12\n",
      "loss_value:  0.6151694059371948\n",
      "debug: ************************ i:  13\n",
      "loss_value:  0.5139374136924744\n"
     ]
    },
    {
     "name": "stdout",
     "output_type": "stream",
     "text": [
      "debug: ************************ i:  14\n",
      "loss_value:  0.5542778968811035\n",
      "debug: ************************ i:  15\n",
      "loss_value:  0.5364852547645569\n"
     ]
    },
    {
     "name": "stdout",
     "output_type": "stream",
     "text": [
      "debug: ************************ i:  16\n",
      "loss_value:  0.6633196473121643\n",
      "debug: ************************ i:  17\n",
      "loss_value:  0.528465747833252\n"
     ]
    },
    {
     "name": "stdout",
     "output_type": "stream",
     "text": [
      "debug: ************************ i:  18\n",
      "loss_value:  0.5404260754585266\n",
      "debug: ************************ i:  19\n",
      "loss_value:  0.6033908128738403\n"
     ]
    },
    {
     "name": "stdout",
     "output_type": "stream",
     "text": [
      "debug: ************************ i:  20\n",
      "loss_value:  0.5333570241928101\n"
     ]
    },
    {
     "name": "stdout",
     "output_type": "stream",
     "text": [
      "debug: ************************ i:  21\n",
      "loss_value:  0.5072013735771179\n"
     ]
    },
    {
     "name": "stdout",
     "output_type": "stream",
     "text": [
      "debug: ************************ i:  22\n",
      "loss_value:  0.48745036125183105\n"
     ]
    },
    {
     "name": "stdout",
     "output_type": "stream",
     "text": [
      "debug: ************************ i:  23\n",
      "loss_value:  0.4039144814014435\n"
     ]
    },
    {
     "name": "stdout",
     "output_type": "stream",
     "text": [
      "debug: ************************ i:  24\n",
      "loss_value:  0.4530732035636902\n"
     ]
    },
    {
     "name": "stdout",
     "output_type": "stream",
     "text": [
      "debug: ************************ i:  25\n",
      "loss_value:  0.5797080993652344\n"
     ]
    },
    {
     "name": "stdout",
     "output_type": "stream",
     "text": [
      "debug: ************************ i:  26\n",
      "loss_value:  0.45492032170295715\n"
     ]
    },
    {
     "name": "stdout",
     "output_type": "stream",
     "text": [
      "debug: ************************ i:  27\n",
      "loss_value:  0.39140376448631287\n"
     ]
    },
    {
     "name": "stdout",
     "output_type": "stream",
     "text": [
      "debug: ************************ i:  28\n",
      "loss_value:  0.41384652256965637\n"
     ]
    },
    {
     "name": "stdout",
     "output_type": "stream",
     "text": [
      "debug: ************************ i:  29\n",
      "loss_value:  0.4600321650505066\n"
     ]
    },
    {
     "name": "stdout",
     "output_type": "stream",
     "text": [
      "debug: ************************ i:  30\n",
      "loss_value:  0.4411132335662842\n",
      "debug: ************************ i:  31\n",
      "loss_value:  0.3371105492115021\n"
     ]
    },
    {
     "name": "stdout",
     "output_type": "stream",
     "text": [
      "debug: ************************ i:  32\n",
      "loss_value:  0.41028597950935364\n",
      "debug: ************************ i:  33\n",
      "loss_value:  0.4329933226108551\n"
     ]
    },
    {
     "name": "stdout",
     "output_type": "stream",
     "text": [
      "debug: ************************ i:  34\n",
      "loss_value:  0.4263189733028412\n",
      "debug: ************************ i:  35\n",
      "loss_value:  0.3934767246246338\n"
     ]
    },
    {
     "name": "stdout",
     "output_type": "stream",
     "text": [
      "debug: ************************ i:  36\n",
      "loss_value:  0.4523695111274719\n",
      "debug: ************************ i:  37\n",
      "loss_value:  0.38791999220848083\n"
     ]
    },
    {
     "data": {
      "text/plain": [
       "Validation:   0%|          | 0/10 [00:00<?, ?it/s]"
      ]
     },
     "metadata": {},
     "output_type": "display_data"
    },
    {
     "name": "stdout",
     "output_type": "stream",
     "text": [
      "debut1: ******************: i:  1\n"
     ]
    },
    {
     "data": {
      "text/plain": [
       "Training:   0%|          | 0/38 [00:00<?, ?it/s]"
      ]
     },
     "metadata": {},
     "output_type": "display_data"
    },
    {
     "name": "stdout",
     "output_type": "stream",
     "text": [
      "debug: ************************ i:  0\n",
      "loss_value:  0.33183249831199646\n",
      "debug: ************************ i:  1\n",
      "loss_value:  0.3203514814376831\n"
     ]
    },
    {
     "name": "stdout",
     "output_type": "stream",
     "text": [
      "debug: ************************ i:  2\n",
      "loss_value:  0.39257052540779114\n",
      "debug: ************************ i:  3\n",
      "loss_value:  0.444110631942749\n"
     ]
    },
    {
     "name": "stdout",
     "output_type": "stream",
     "text": [
      "debug: ************************ i:  4\n",
      "loss_value:  0.36618706583976746\n",
      "debug: ************************ i:  5\n",
      "loss_value:  0.43381696939468384\n"
     ]
    },
    {
     "name": "stdout",
     "output_type": "stream",
     "text": [
      "debug: ************************ i:  6\n",
      "loss_value:  0.4202116131782532\n",
      "debug: ************************ i:  7\n",
      "loss_value:  0.3182155191898346\n"
     ]
    },
    {
     "name": "stdout",
     "output_type": "stream",
     "text": [
      "debug: ************************ i:  8\n",
      "loss_value:  0.30649080872535706\n",
      "debug: ************************ i:  9\n",
      "loss_value:  0.2590344548225403\n"
     ]
    },
    {
     "name": "stdout",
     "output_type": "stream",
     "text": [
      "debug: ************************ i:  10\n",
      "loss_value:  0.30953651666641235\n",
      "debug: ************************ i:  11\n",
      "loss_value:  0.3667530417442322\n"
     ]
    },
    {
     "name": "stdout",
     "output_type": "stream",
     "text": [
      "debug: ************************ i:  12\n",
      "loss_value:  0.3075804114341736\n"
     ]
    },
    {
     "name": "stdout",
     "output_type": "stream",
     "text": [
      "debug: ************************ i:  13\n",
      "loss_value:  0.3120986521244049\n",
      "debug: ************************ i:  14\n",
      "loss_value:  0.35481780767440796\n"
     ]
    },
    {
     "name": "stdout",
     "output_type": "stream",
     "text": [
      "debug: ************************ i:  15\n",
      "loss_value:  0.28797000646591187\n",
      "debug: ************************ i:  16\n",
      "loss_value:  0.29032301902770996\n"
     ]
    },
    {
     "name": "stdout",
     "output_type": "stream",
     "text": [
      "debug: ************************ i:  17\n",
      "loss_value:  0.27217626571655273\n",
      "debug: ************************ i:  18\n",
      "loss_value:  0.23639334738254547\n"
     ]
    },
    {
     "name": "stdout",
     "output_type": "stream",
     "text": [
      "debug: ************************ i:  19\n",
      "loss_value:  0.26981136202812195\n"
     ]
    },
    {
     "name": "stdout",
     "output_type": "stream",
     "text": [
      "debug: ************************ i:  20\n",
      "loss_value:  0.28980332612991333\n"
     ]
    },
    {
     "name": "stdout",
     "output_type": "stream",
     "text": [
      "debug: ************************ i:  21\n",
      "loss_value:  0.36515599489212036\n",
      "debug: ************************ i:  22\n",
      "loss_value:  0.3594185411930084\n"
     ]
    },
    {
     "name": "stdout",
     "output_type": "stream",
     "text": [
      "debug: ************************ i:  23\n",
      "loss_value:  0.2968394160270691\n",
      "debug: ************************ i:  24\n",
      "loss_value:  0.3241257071495056\n"
     ]
    },
    {
     "name": "stdout",
     "output_type": "stream",
     "text": [
      "debug: ************************ i:  25\n",
      "loss_value:  0.26464518904685974\n",
      "debug: ************************ i:  26\n",
      "loss_value:  0.3342790901660919\n"
     ]
    },
    {
     "name": "stdout",
     "output_type": "stream",
     "text": [
      "debug: ************************ i:  27\n",
      "loss_value:  0.2794027030467987\n",
      "debug: ************************ i:  28\n",
      "loss_value:  0.2624874413013458\n"
     ]
    },
    {
     "name": "stdout",
     "output_type": "stream",
     "text": [
      "debug: ************************ i:  29\n",
      "loss_value:  0.2103366106748581\n"
     ]
    },
    {
     "name": "stdout",
     "output_type": "stream",
     "text": [
      "debug: ************************ i:  30\n",
      "loss_value:  0.27875715494155884\n",
      "debug: ************************ i:  31\n",
      "loss_value:  0.2516457736492157\n"
     ]
    },
    {
     "name": "stdout",
     "output_type": "stream",
     "text": [
      "debug: ************************ i:  32\n",
      "loss_value:  0.2844879627227783\n",
      "debug: ************************ i:  33\n",
      "loss_value:  0.22951602935791016\n"
     ]
    },
    {
     "name": "stdout",
     "output_type": "stream",
     "text": [
      "debug: ************************ i:  34\n",
      "loss_value:  0.2975238561630249\n",
      "debug: ************************ i:  35\n",
      "loss_value:  0.21564124524593353\n"
     ]
    },
    {
     "name": "stdout",
     "output_type": "stream",
     "text": [
      "debug: ************************ i:  36\n",
      "loss_value:  0.19795702397823334\n",
      "debug: ************************ i:  37\n",
      "loss_value:  0.182633176445961\n"
     ]
    },
    {
     "data": {
      "text/plain": [
       "Validation:   0%|          | 0/10 [00:00<?, ?it/s]"
      ]
     },
     "metadata": {},
     "output_type": "display_data"
    },
    {
     "name": "stdout",
     "output_type": "stream",
     "text": [
      "debut1: ******************: i:  2\n"
     ]
    },
    {
     "data": {
      "text/plain": [
       "Training:   0%|          | 0/38 [00:00<?, ?it/s]"
      ]
     },
     "metadata": {},
     "output_type": "display_data"
    },
    {
     "name": "stdout",
     "output_type": "stream",
     "text": [
      "debug: ************************ i:  0\n",
      "loss_value:  0.2274077981710434\n"
     ]
    },
    {
     "name": "stdout",
     "output_type": "stream",
     "text": [
      "debug: ************************ i:  1\n",
      "loss_value:  0.24711011350154877\n",
      "debug: ************************ i:  2\n",
      "loss_value:  0.20396606624126434\n"
     ]
    },
    {
     "name": "stdout",
     "output_type": "stream",
     "text": [
      "debug: ************************ i:  3\n",
      "loss_value:  0.2671360969543457\n"
     ]
    },
    {
     "name": "stdout",
     "output_type": "stream",
     "text": [
      "debug: ************************ i:  4\n",
      "loss_value:  0.2430090755224228\n"
     ]
    },
    {
     "name": "stdout",
     "output_type": "stream",
     "text": [
      "debug: ************************ i:  5\n",
      "loss_value:  0.2313680350780487\n"
     ]
    },
    {
     "name": "stdout",
     "output_type": "stream",
     "text": [
      "debug: ************************ i:  6\n",
      "loss_value:  0.18143300712108612\n"
     ]
    },
    {
     "name": "stdout",
     "output_type": "stream",
     "text": [
      "debug: ************************ i:  7\n",
      "loss_value:  0.19171205163002014\n"
     ]
    },
    {
     "name": "stdout",
     "output_type": "stream",
     "text": [
      "debug: ************************ i:  8\n",
      "loss_value:  0.2517501413822174\n"
     ]
    },
    {
     "name": "stdout",
     "output_type": "stream",
     "text": [
      "debug: ************************ i:  9\n",
      "loss_value:  0.21945802867412567\n",
      "debug: ************************ i:  10\n",
      "loss_value:  0.20909158885478973\n"
     ]
    },
    {
     "name": "stdout",
     "output_type": "stream",
     "text": [
      "debug: ************************ i:  11\n",
      "loss_value:  0.19488240778446198\n",
      "debug: ************************ i:  12\n",
      "loss_value:  0.21300125122070312\n"
     ]
    },
    {
     "name": "stdout",
     "output_type": "stream",
     "text": [
      "debug: ************************ i:  13\n",
      "loss_value:  0.20513519644737244\n"
     ]
    },
    {
     "name": "stdout",
     "output_type": "stream",
     "text": [
      "debug: ************************ i:  14\n",
      "loss_value:  0.17643393576145172\n"
     ]
    },
    {
     "name": "stdout",
     "output_type": "stream",
     "text": [
      "debug: ************************ i:  15\n",
      "loss_value:  0.18787680566310883\n"
     ]
    },
    {
     "name": "stdout",
     "output_type": "stream",
     "text": [
      "debug: ************************ i:  16\n",
      "loss_value:  0.19212085008621216\n"
     ]
    },
    {
     "name": "stdout",
     "output_type": "stream",
     "text": [
      "debug: ************************ i:  17\n",
      "loss_value:  0.19364683330059052\n",
      "debug: ************************ i:  18\n",
      "loss_value:  0.239182248711586\n"
     ]
    },
    {
     "name": "stdout",
     "output_type": "stream",
     "text": [
      "debug: ************************ i:  19\n",
      "loss_value:  0.18252982199192047\n",
      "debug: ************************ i:  20\n",
      "loss_value:  0.2143452763557434\n"
     ]
    },
    {
     "name": "stdout",
     "output_type": "stream",
     "text": [
      "debug: ************************ i:  21\n",
      "loss_value:  0.2121589630842209\n"
     ]
    },
    {
     "name": "stdout",
     "output_type": "stream",
     "text": [
      "debug: ************************ i:  22\n",
      "loss_value:  0.20105715095996857\n"
     ]
    },
    {
     "name": "stdout",
     "output_type": "stream",
     "text": [
      "debug: ************************ i:  23\n",
      "loss_value:  0.19944773614406586\n",
      "debug: ************************ i:  24\n",
      "loss_value:  0.19334688782691956\n"
     ]
    },
    {
     "name": "stdout",
     "output_type": "stream",
     "text": [
      "debug: ************************ i:  25\n",
      "loss_value:  0.16540926694869995\n",
      "debug: ************************ i:  26\n",
      "loss_value:  0.19660590589046478\n"
     ]
    },
    {
     "name": "stdout",
     "output_type": "stream",
     "text": [
      "debug: ************************ i:  27\n",
      "loss_value:  0.18350288271903992\n"
     ]
    },
    {
     "name": "stdout",
     "output_type": "stream",
     "text": [
      "debug: ************************ i:  28\n",
      "loss_value:  0.17266401648521423\n"
     ]
    },
    {
     "name": "stdout",
     "output_type": "stream",
     "text": [
      "debug: ************************ i:  29\n",
      "loss_value:  0.14876802265644073\n",
      "debug: ************************ i:  30\n",
      "loss_value:  0.19547425210475922\n"
     ]
    },
    {
     "name": "stdout",
     "output_type": "stream",
     "text": [
      "debug: ************************ i:  31\n",
      "loss_value:  0.13583271205425262\n"
     ]
    },
    {
     "name": "stdout",
     "output_type": "stream",
     "text": [
      "debug: ************************ i:  32\n",
      "loss_value:  0.15566769242286682\n"
     ]
    },
    {
     "name": "stdout",
     "output_type": "stream",
     "text": [
      "debug: ************************ i:  33\n",
      "loss_value:  0.19201791286468506\n"
     ]
    },
    {
     "name": "stdout",
     "output_type": "stream",
     "text": [
      "debug: ************************ i:  34\n",
      "loss_value:  0.16128601133823395\n"
     ]
    },
    {
     "name": "stdout",
     "output_type": "stream",
     "text": [
      "debug: ************************ i:  35\n",
      "loss_value:  0.1555604487657547\n"
     ]
    },
    {
     "name": "stdout",
     "output_type": "stream",
     "text": [
      "debug: ************************ i:  36\n",
      "loss_value:  0.14387187361717224\n"
     ]
    },
    {
     "name": "stdout",
     "output_type": "stream",
     "text": [
      "debug: ************************ i:  37\n",
      "loss_value:  0.1344045251607895\n"
     ]
    },
    {
     "data": {
      "text/plain": [
       "Validation:   0%|          | 0/10 [00:00<?, ?it/s]"
      ]
     },
     "metadata": {},
     "output_type": "display_data"
    },
    {
     "name": "stdout",
     "output_type": "stream",
     "text": [
      "debut1: ******************: i:  3\n"
     ]
    },
    {
     "data": {
      "text/plain": [
       "Training:   0%|          | 0/38 [00:00<?, ?it/s]"
      ]
     },
     "metadata": {},
     "output_type": "display_data"
    },
    {
     "name": "stdout",
     "output_type": "stream",
     "text": [
      "debug: ************************ i:  0\n",
      "loss_value:  0.17990043759346008\n",
      "debug: ************************ i:  1\n",
      "loss_value:  0.211882084608078\n"
     ]
    },
    {
     "name": "stdout",
     "output_type": "stream",
     "text": [
      "debug: ************************ i:  2\n",
      "loss_value:  0.1270217001438141\n"
     ]
    },
    {
     "name": "stdout",
     "output_type": "stream",
     "text": [
      "debug: ************************ i:  3\n",
      "loss_value:  0.1641170084476471\n",
      "debug: ************************ i:  4\n",
      "loss_value:  0.13533422350883484\n"
     ]
    },
    {
     "name": "stdout",
     "output_type": "stream",
     "text": [
      "debug: ************************ i:  5\n",
      "loss_value:  0.11929929256439209\n",
      "debug: ************************ i:  6\n",
      "loss_value:  0.11648856103420258\n"
     ]
    },
    {
     "name": "stdout",
     "output_type": "stream",
     "text": [
      "debug: ************************ i:  7\n",
      "loss_value:  0.17908303439617157\n"
     ]
    },
    {
     "name": "stdout",
     "output_type": "stream",
     "text": [
      "debug: ************************ i:  8\n",
      "loss_value:  0.16575157642364502\n"
     ]
    },
    {
     "name": "stdout",
     "output_type": "stream",
     "text": [
      "debug: ************************ i:  9\n",
      "loss_value:  0.18346045911312103\n",
      "debug: ************************ i:  10\n",
      "loss_value:  0.14289645850658417\n"
     ]
    },
    {
     "name": "stdout",
     "output_type": "stream",
     "text": [
      "debug: ************************ i:  11\n",
      "loss_value:  0.12959004938602448\n",
      "debug: ************************ i:  12\n",
      "loss_value:  0.12067414075136185\n"
     ]
    },
    {
     "name": "stdout",
     "output_type": "stream",
     "text": [
      "debug: ************************ i:  13\n",
      "loss_value:  0.11639024317264557\n",
      "debug: ************************ i:  14\n",
      "loss_value:  0.1624695211648941\n"
     ]
    },
    {
     "name": "stdout",
     "output_type": "stream",
     "text": [
      "debug: ************************ i:  15\n",
      "loss_value:  0.12340061366558075\n",
      "debug: ************************ i:  16\n",
      "loss_value:  0.11546175926923752\n"
     ]
    },
    {
     "name": "stdout",
     "output_type": "stream",
     "text": [
      "debug: ************************ i:  17\n",
      "loss_value:  0.14052025973796844\n",
      "debug: ************************ i:  18\n",
      "loss_value:  0.11490558087825775\n"
     ]
    },
    {
     "name": "stdout",
     "output_type": "stream",
     "text": [
      "debug: ************************ i:  19\n",
      "loss_value:  0.12163197249174118\n",
      "debug: ************************ i:  20\n",
      "loss_value:  0.11270277947187424\n"
     ]
    },
    {
     "name": "stdout",
     "output_type": "stream",
     "text": [
      "debug: ************************ i:  21\n",
      "loss_value:  0.12408993393182755\n",
      "debug: ************************ i:  22\n",
      "loss_value:  0.13578829169273376\n"
     ]
    },
    {
     "name": "stdout",
     "output_type": "stream",
     "text": [
      "debug: ************************ i:  23\n",
      "loss_value:  0.13989296555519104\n",
      "debug: ************************ i:  24\n",
      "loss_value:  0.12777048349380493\n"
     ]
    },
    {
     "name": "stdout",
     "output_type": "stream",
     "text": [
      "debug: ************************ i:  25\n",
      "loss_value:  0.10053343325853348\n",
      "debug: ************************ i:  26\n",
      "loss_value:  0.11047782748937607\n"
     ]
    },
    {
     "name": "stdout",
     "output_type": "stream",
     "text": [
      "debug: ************************ i:  27\n",
      "loss_value:  0.11289656907320023\n",
      "debug: ************************ i:  28\n",
      "loss_value:  0.14386333525180817\n"
     ]
    },
    {
     "name": "stdout",
     "output_type": "stream",
     "text": [
      "debug: ************************ i:  29\n",
      "loss_value:  0.12595511972904205\n",
      "debug: ************************ i:  30\n",
      "loss_value:  0.10380180925130844\n"
     ]
    },
    {
     "name": "stdout",
     "output_type": "stream",
     "text": [
      "debug: ************************ i:  31\n",
      "loss_value:  0.16392575204372406\n",
      "debug: ************************ i:  32\n",
      "loss_value:  0.12128343433141708\n"
     ]
    },
    {
     "name": "stdout",
     "output_type": "stream",
     "text": [
      "debug: ************************ i:  33\n",
      "loss_value:  0.11665835231542587\n",
      "debug: ************************ i:  34\n",
      "loss_value:  0.12212672084569931\n"
     ]
    },
    {
     "name": "stdout",
     "output_type": "stream",
     "text": [
      "debug: ************************ i:  35\n",
      "loss_value:  0.1125909611582756\n",
      "debug: ************************ i:  36\n",
      "loss_value:  0.12300515919923782\n"
     ]
    },
    {
     "name": "stdout",
     "output_type": "stream",
     "text": [
      "debug: ************************ i:  37\n",
      "loss_value:  0.12523555755615234\n"
     ]
    },
    {
     "data": {
      "text/plain": [
       "Validation:   0%|          | 0/10 [00:00<?, ?it/s]"
      ]
     },
     "metadata": {},
     "output_type": "display_data"
    },
    {
     "name": "stdout",
     "output_type": "stream",
     "text": [
      "debut1: ******************: i:  4\n"
     ]
    },
    {
     "data": {
      "text/plain": [
       "Training:   0%|          | 0/38 [00:00<?, ?it/s]"
      ]
     },
     "metadata": {},
     "output_type": "display_data"
    },
    {
     "name": "stdout",
     "output_type": "stream",
     "text": [
      "debug: ************************ i:  0\n",
      "loss_value:  0.10052791237831116\n"
     ]
    },
    {
     "name": "stdout",
     "output_type": "stream",
     "text": [
      "debug: ************************ i:  1\n",
      "loss_value:  0.10891211777925491\n"
     ]
    },
    {
     "name": "stdout",
     "output_type": "stream",
     "text": [
      "debug: ************************ i:  2\n",
      "loss_value:  0.08652359247207642\n",
      "debug: ************************ i:  3\n",
      "loss_value:  0.10850057750940323\n"
     ]
    },
    {
     "name": "stdout",
     "output_type": "stream",
     "text": [
      "debug: ************************ i:  4\n",
      "loss_value:  0.11404235661029816\n",
      "debug: ************************ i:  5\n",
      "loss_value:  0.106028713285923\n"
     ]
    },
    {
     "name": "stdout",
     "output_type": "stream",
     "text": [
      "debug: ************************ i:  6\n",
      "loss_value:  0.10486311465501785\n",
      "debug: ************************ i:  7\n",
      "loss_value:  0.10914614796638489\n"
     ]
    },
    {
     "name": "stdout",
     "output_type": "stream",
     "text": [
      "debug: ************************ i:  8\n",
      "loss_value:  0.11144093424081802\n",
      "debug: ************************ i:  9\n",
      "loss_value:  0.105917789041996\n"
     ]
    },
    {
     "name": "stdout",
     "output_type": "stream",
     "text": [
      "debug: ************************ i:  10\n",
      "loss_value:  0.0957065001130104\n",
      "debug: ************************ i:  11\n",
      "loss_value:  0.13045911490917206\n"
     ]
    },
    {
     "name": "stdout",
     "output_type": "stream",
     "text": [
      "debug: ************************ i:  12\n",
      "loss_value:  0.11415953189134598\n",
      "debug: ************************ i:  13\n",
      "loss_value:  0.11368844658136368\n"
     ]
    },
    {
     "name": "stdout",
     "output_type": "stream",
     "text": [
      "debug: ************************ i:  14\n",
      "loss_value:  0.11053737252950668\n"
     ]
    },
    {
     "name": "stdout",
     "output_type": "stream",
     "text": [
      "debug: ************************ i:  15\n",
      "loss_value:  0.09333397448062897\n"
     ]
    },
    {
     "name": "stdout",
     "output_type": "stream",
     "text": [
      "debug: ************************ i:  16\n",
      "loss_value:  0.11279371380805969\n",
      "debug: ************************ i:  17\n",
      "loss_value:  0.11636001616716385\n"
     ]
    },
    {
     "name": "stdout",
     "output_type": "stream",
     "text": [
      "debug: ************************ i:  18\n",
      "loss_value:  0.11692958325147629\n",
      "debug: ************************ i:  19\n",
      "loss_value:  0.10943041741847992\n"
     ]
    },
    {
     "name": "stdout",
     "output_type": "stream",
     "text": [
      "debug: ************************ i:  20\n",
      "loss_value:  0.09972106665372849\n",
      "debug: ************************ i:  21\n",
      "loss_value:  0.1302146017551422\n"
     ]
    },
    {
     "name": "stdout",
     "output_type": "stream",
     "text": [
      "debug: ************************ i:  22\n",
      "loss_value:  0.1082405224442482\n"
     ]
    },
    {
     "name": "stdout",
     "output_type": "stream",
     "text": [
      "debug: ************************ i:  23\n",
      "loss_value:  0.10331059247255325\n"
     ]
    },
    {
     "name": "stdout",
     "output_type": "stream",
     "text": [
      "debug: ************************ i:  24\n",
      "loss_value:  0.09492215514183044\n"
     ]
    },
    {
     "name": "stdout",
     "output_type": "stream",
     "text": [
      "debug: ************************ i:  25\n",
      "loss_value:  0.1273888647556305\n"
     ]
    },
    {
     "name": "stdout",
     "output_type": "stream",
     "text": [
      "debug: ************************ i:  26\n",
      "loss_value:  0.10663280636072159\n",
      "debug: ************************ i:  27\n",
      "loss_value:  0.09242404997348785\n"
     ]
    },
    {
     "name": "stdout",
     "output_type": "stream",
     "text": [
      "debug: ************************ i:  28\n",
      "loss_value:  0.12461885064840317\n",
      "debug: ************************ i:  29\n",
      "loss_value:  0.08458162099123001\n"
     ]
    },
    {
     "name": "stdout",
     "output_type": "stream",
     "text": [
      "debug: ************************ i:  30\n",
      "loss_value:  0.07813653349876404\n",
      "debug: ************************ i:  31\n",
      "loss_value:  0.09290413558483124\n"
     ]
    },
    {
     "name": "stdout",
     "output_type": "stream",
     "text": [
      "debug: ************************ i:  32\n",
      "loss_value:  0.09053808450698853\n",
      "debug: ************************ i:  33\n",
      "loss_value:  0.07840044051408768\n"
     ]
    },
    {
     "name": "stdout",
     "output_type": "stream",
     "text": [
      "debug: ************************ i:  34\n",
      "loss_value:  0.11062856018543243\n",
      "debug: ************************ i:  35\n",
      "loss_value:  0.1037687435746193\n"
     ]
    },
    {
     "name": "stdout",
     "output_type": "stream",
     "text": [
      "debug: ************************ i:  36\n",
      "loss_value:  0.08776222914457321\n",
      "debug: ************************ i:  37\n",
      "loss_value:  0.08551999926567078\n"
     ]
    },
    {
     "data": {
      "text/plain": [
       "Validation:   0%|          | 0/10 [00:00<?, ?it/s]"
      ]
     },
     "metadata": {},
     "output_type": "display_data"
    },
    {
     "name": "stdout",
     "output_type": "stream",
     "text": [
      "debut1: ******************: i:  5\n"
     ]
    },
    {
     "data": {
      "text/plain": [
       "Training:   0%|          | 0/38 [00:00<?, ?it/s]"
      ]
     },
     "metadata": {},
     "output_type": "display_data"
    },
    {
     "name": "stdout",
     "output_type": "stream",
     "text": [
      "debug: ************************ i:  0\n",
      "loss_value:  0.09633990377187729\n",
      "debug: ************************ i:  1\n",
      "loss_value:  0.09750305861234665\n"
     ]
    },
    {
     "name": "stdout",
     "output_type": "stream",
     "text": [
      "debug: ************************ i:  2\n",
      "loss_value:  0.09377702325582504\n",
      "debug: ************************ i:  3\n",
      "loss_value:  0.10066889226436615\n"
     ]
    },
    {
     "name": "stdout",
     "output_type": "stream",
     "text": [
      "debug: ************************ i:  4\n",
      "loss_value:  0.10343549400568008\n",
      "debug: ************************ i:  5\n",
      "loss_value:  0.104253388941288\n"
     ]
    },
    {
     "name": "stdout",
     "output_type": "stream",
     "text": [
      "debug: ************************ i:  6\n",
      "loss_value:  0.08327482640743256\n",
      "debug: ************************ i:  7\n",
      "loss_value:  0.10288863629102707\n"
     ]
    },
    {
     "name": "stdout",
     "output_type": "stream",
     "text": [
      "debug: ************************ i:  8\n",
      "loss_value:  0.08845434337854385\n"
     ]
    },
    {
     "name": "stdout",
     "output_type": "stream",
     "text": [
      "debug: ************************ i:  9\n",
      "loss_value:  0.08367282897233963\n",
      "debug: ************************ i:  10\n",
      "loss_value:  0.07985391467809677\n"
     ]
    },
    {
     "name": "stdout",
     "output_type": "stream",
     "text": [
      "debug: ************************ i:  11\n",
      "loss_value:  0.08744870871305466\n",
      "debug: ************************ i:  12\n",
      "loss_value:  0.08842816203832626\n"
     ]
    },
    {
     "name": "stdout",
     "output_type": "stream",
     "text": [
      "debug: ************************ i:  13\n",
      "loss_value:  0.08420027047395706\n",
      "debug: ************************ i:  14\n",
      "loss_value:  0.07573968172073364\n"
     ]
    },
    {
     "name": "stdout",
     "output_type": "stream",
     "text": [
      "debug: ************************ i:  15\n",
      "loss_value:  0.07533814013004303\n",
      "debug: ************************ i:  16\n",
      "loss_value:  0.08778112381696701\n"
     ]
    },
    {
     "name": "stdout",
     "output_type": "stream",
     "text": [
      "debug: ************************ i:  17\n",
      "loss_value:  0.08191093802452087\n",
      "debug: ************************ i:  18\n",
      "loss_value:  0.08721479773521423\n"
     ]
    },
    {
     "name": "stdout",
     "output_type": "stream",
     "text": [
      "debug: ************************ i:  19\n",
      "loss_value:  0.09237615764141083\n",
      "debug: ************************ i:  20\n",
      "loss_value:  0.07509095221757889\n"
     ]
    },
    {
     "name": "stdout",
     "output_type": "stream",
     "text": [
      "debug: ************************ i:  21\n",
      "loss_value:  0.08082126080989838\n",
      "debug: ************************ i:  22\n",
      "loss_value:  0.09911215305328369\n"
     ]
    },
    {
     "name": "stdout",
     "output_type": "stream",
     "text": [
      "debug: ************************ i:  23\n",
      "loss_value:  0.08794121444225311\n",
      "debug: ************************ i:  24\n",
      "loss_value:  0.0832037553191185\n"
     ]
    },
    {
     "name": "stdout",
     "output_type": "stream",
     "text": [
      "debug: ************************ i:  25\n",
      "loss_value:  0.07754941284656525\n",
      "debug: ************************ i:  26\n",
      "loss_value:  0.07657722383737564\n"
     ]
    },
    {
     "name": "stdout",
     "output_type": "stream",
     "text": [
      "debug: ************************ i:  27\n",
      "loss_value:  0.07987654209136963\n",
      "debug: ************************ i:  28\n",
      "loss_value:  0.08712227642536163\n"
     ]
    },
    {
     "name": "stdout",
     "output_type": "stream",
     "text": [
      "debug: ************************ i:  29\n",
      "loss_value:  0.09743046015501022\n",
      "debug: ************************ i:  30\n",
      "loss_value:  0.08643102645874023\n"
     ]
    },
    {
     "name": "stdout",
     "output_type": "stream",
     "text": [
      "debug: ************************ i:  31\n",
      "loss_value:  0.09034905582666397\n",
      "debug: ************************ i:  32\n",
      "loss_value:  0.08339686691761017\n"
     ]
    },
    {
     "name": "stdout",
     "output_type": "stream",
     "text": [
      "debug: ************************ i:  33\n",
      "loss_value:  0.08524913340806961\n",
      "debug: ************************ i:  34\n",
      "loss_value:  0.12305986881256104\n"
     ]
    },
    {
     "name": "stdout",
     "output_type": "stream",
     "text": [
      "debug: ************************ i:  35\n",
      "loss_value:  0.10327858477830887\n",
      "debug: ************************ i:  36\n",
      "loss_value:  0.06987712532281876\n"
     ]
    },
    {
     "name": "stdout",
     "output_type": "stream",
     "text": [
      "debug: ************************ i:  37\n",
      "loss_value:  0.07460115849971771\n"
     ]
    },
    {
     "data": {
      "text/plain": [
       "Validation:   0%|          | 0/10 [00:00<?, ?it/s]"
      ]
     },
     "metadata": {},
     "output_type": "display_data"
    },
    {
     "name": "stdout",
     "output_type": "stream",
     "text": [
      "debut1: ******************: i:  6\n"
     ]
    },
    {
     "data": {
      "text/plain": [
       "Training:   0%|          | 0/38 [00:00<?, ?it/s]"
      ]
     },
     "metadata": {},
     "output_type": "display_data"
    },
    {
     "name": "stdout",
     "output_type": "stream",
     "text": [
      "debug: ************************ i:  0\n",
      "loss_value:  0.07273764908313751\n"
     ]
    },
    {
     "name": "stdout",
     "output_type": "stream",
     "text": [
      "debug: ************************ i:  1\n",
      "loss_value:  0.080581434071064\n"
     ]
    },
    {
     "name": "stdout",
     "output_type": "stream",
     "text": [
      "debug: ************************ i:  2\n",
      "loss_value:  0.08371332287788391\n"
     ]
    },
    {
     "name": "stdout",
     "output_type": "stream",
     "text": [
      "debug: ************************ i:  3\n",
      "loss_value:  0.079515740275383\n"
     ]
    },
    {
     "name": "stdout",
     "output_type": "stream",
     "text": [
      "debug: ************************ i:  4\n",
      "loss_value:  0.08059825748205185\n"
     ]
    },
    {
     "name": "stdout",
     "output_type": "stream",
     "text": [
      "debug: ************************ i:  5\n",
      "loss_value:  0.0798947811126709\n"
     ]
    },
    {
     "name": "stdout",
     "output_type": "stream",
     "text": [
      "debug: ************************ i:  6\n",
      "loss_value:  0.06863777339458466\n"
     ]
    },
    {
     "name": "stdout",
     "output_type": "stream",
     "text": [
      "debug: ************************ i:  7\n",
      "loss_value:  0.0831322893500328\n",
      "debug: ************************ i:  8\n",
      "loss_value:  0.0845809355378151\n"
     ]
    },
    {
     "name": "stdout",
     "output_type": "stream",
     "text": [
      "debug: ************************ i:  9\n",
      "loss_value:  0.07267146557569504\n",
      "debug: ************************ i:  10\n",
      "loss_value:  0.09383738040924072\n"
     ]
    },
    {
     "name": "stdout",
     "output_type": "stream",
     "text": [
      "debug: ************************ i:  11\n",
      "loss_value:  0.07769280672073364\n"
     ]
    },
    {
     "name": "stdout",
     "output_type": "stream",
     "text": [
      "debug: ************************ i:  12\n",
      "loss_value:  0.06870570033788681\n",
      "debug: ************************ i:  13\n",
      "loss_value:  0.08835004270076752\n"
     ]
    },
    {
     "name": "stdout",
     "output_type": "stream",
     "text": [
      "debug: ************************ i:  14\n",
      "loss_value:  0.0911920890212059\n",
      "debug: ************************ i:  15\n",
      "loss_value:  0.093016117811203\n"
     ]
    },
    {
     "name": "stdout",
     "output_type": "stream",
     "text": [
      "debug: ************************ i:  16\n",
      "loss_value:  0.06652092933654785\n",
      "debug: ************************ i:  17\n",
      "loss_value:  0.07250604033470154\n"
     ]
    },
    {
     "name": "stdout",
     "output_type": "stream",
     "text": [
      "debug: ************************ i:  18\n",
      "loss_value:  0.0673355981707573\n",
      "debug: ************************ i:  19\n",
      "loss_value:  0.06456556916236877\n"
     ]
    },
    {
     "name": "stdout",
     "output_type": "stream",
     "text": [
      "debug: ************************ i:  20\n",
      "loss_value:  0.071283720433712\n",
      "debug: ************************ i:  21\n",
      "loss_value:  0.08385982364416122\n"
     ]
    },
    {
     "name": "stdout",
     "output_type": "stream",
     "text": [
      "debug: ************************ i:  22\n",
      "loss_value:  0.07267403602600098\n",
      "debug: ************************ i:  23\n",
      "loss_value:  0.07128486037254333\n"
     ]
    },
    {
     "name": "stdout",
     "output_type": "stream",
     "text": [
      "debug: ************************ i:  24\n",
      "loss_value:  0.06659067422151566\n",
      "debug: ************************ i:  25\n",
      "loss_value:  0.08286331593990326\n"
     ]
    },
    {
     "name": "stdout",
     "output_type": "stream",
     "text": [
      "debug: ************************ i:  26\n",
      "loss_value:  0.06978713721036911\n",
      "debug: ************************ i:  27\n",
      "loss_value:  0.07803662121295929\n"
     ]
    },
    {
     "name": "stdout",
     "output_type": "stream",
     "text": [
      "debug: ************************ i:  28\n",
      "loss_value:  0.06022576615214348\n",
      "debug: ************************ i:  29\n",
      "loss_value:  0.07894673198461533\n"
     ]
    },
    {
     "name": "stdout",
     "output_type": "stream",
     "text": [
      "debug: ************************ i:  30\n",
      "loss_value:  0.06704846024513245\n",
      "debug: ************************ i:  31\n",
      "loss_value:  0.06456161290407181\n"
     ]
    },
    {
     "name": "stdout",
     "output_type": "stream",
     "text": [
      "debug: ************************ i:  32\n",
      "loss_value:  0.06406038999557495\n",
      "debug: ************************ i:  33\n",
      "loss_value:  0.09596831351518631\n"
     ]
    },
    {
     "name": "stdout",
     "output_type": "stream",
     "text": [
      "debug: ************************ i:  34\n",
      "loss_value:  0.060144275426864624\n",
      "debug: ************************ i:  35\n",
      "loss_value:  0.07408957183361053\n"
     ]
    },
    {
     "name": "stdout",
     "output_type": "stream",
     "text": [
      "debug: ************************ i:  36\n",
      "loss_value:  0.07986133545637131\n",
      "debug: ************************ i:  37\n",
      "loss_value:  0.07637854665517807\n"
     ]
    },
    {
     "data": {
      "text/plain": [
       "Validation:   0%|          | 0/10 [00:00<?, ?it/s]"
      ]
     },
     "metadata": {},
     "output_type": "display_data"
    },
    {
     "name": "stdout",
     "output_type": "stream",
     "text": [
      "debut1: ******************: i:  7\n"
     ]
    },
    {
     "data": {
      "text/plain": [
       "Training:   0%|          | 0/38 [00:00<?, ?it/s]"
      ]
     },
     "metadata": {},
     "output_type": "display_data"
    },
    {
     "name": "stdout",
     "output_type": "stream",
     "text": [
      "debug: ************************ i:  0\n",
      "loss_value:  0.07136990129947662\n"
     ]
    },
    {
     "name": "stdout",
     "output_type": "stream",
     "text": [
      "debug: ************************ i:  1\n",
      "loss_value:  0.07213669270277023\n"
     ]
    },
    {
     "name": "stdout",
     "output_type": "stream",
     "text": [
      "debug: ************************ i:  2\n",
      "loss_value:  0.08164285123348236\n"
     ]
    },
    {
     "name": "stdout",
     "output_type": "stream",
     "text": [
      "debug: ************************ i:  3\n",
      "loss_value:  0.09057076275348663\n"
     ]
    },
    {
     "name": "stdout",
     "output_type": "stream",
     "text": [
      "debug: ************************ i:  4\n",
      "loss_value:  0.06622324138879776\n"
     ]
    },
    {
     "name": "stdout",
     "output_type": "stream",
     "text": [
      "debug: ************************ i:  5\n",
      "loss_value:  0.06353231519460678\n"
     ]
    },
    {
     "name": "stdout",
     "output_type": "stream",
     "text": [
      "debug: ************************ i:  6\n",
      "loss_value:  0.06533916294574738\n"
     ]
    },
    {
     "name": "stdout",
     "output_type": "stream",
     "text": [
      "debug: ************************ i:  7\n",
      "loss_value:  0.07330039888620377\n"
     ]
    },
    {
     "name": "stdout",
     "output_type": "stream",
     "text": [
      "debug: ************************ i:  8\n",
      "loss_value:  0.0661439374089241\n",
      "debug: ************************ i:  9\n",
      "loss_value:  0.07597262412309647\n"
     ]
    },
    {
     "name": "stdout",
     "output_type": "stream",
     "text": [
      "debug: ************************ i:  10\n",
      "loss_value:  0.07249690592288971\n",
      "debug: ************************ i:  11\n",
      "loss_value:  0.10129762440919876\n"
     ]
    },
    {
     "name": "stdout",
     "output_type": "stream",
     "text": [
      "debug: ************************ i:  12\n",
      "loss_value:  0.05213186889886856\n",
      "debug: ************************ i:  13\n",
      "loss_value:  0.07112359255552292\n"
     ]
    },
    {
     "name": "stdout",
     "output_type": "stream",
     "text": [
      "debug: ************************ i:  14\n",
      "loss_value:  0.06679467856884003\n",
      "debug: ************************ i:  15\n",
      "loss_value:  0.07451578974723816\n"
     ]
    },
    {
     "name": "stdout",
     "output_type": "stream",
     "text": [
      "debug: ************************ i:  16\n",
      "loss_value:  0.07037601619958878\n",
      "debug: ************************ i:  17\n",
      "loss_value:  0.06319954991340637\n"
     ]
    },
    {
     "name": "stdout",
     "output_type": "stream",
     "text": [
      "debug: ************************ i:  18\n",
      "loss_value:  0.06939493864774704\n",
      "debug: ************************ i:  19\n",
      "loss_value:  0.06549187004566193\n"
     ]
    },
    {
     "name": "stdout",
     "output_type": "stream",
     "text": [
      "debug: ************************ i:  20\n",
      "loss_value:  0.0786016583442688\n",
      "debug: ************************ i:  21\n",
      "loss_value:  0.0657787024974823\n"
     ]
    },
    {
     "name": "stdout",
     "output_type": "stream",
     "text": [
      "debug: ************************ i:  22\n",
      "loss_value:  0.07852601259946823\n",
      "debug: ************************ i:  23\n",
      "loss_value:  0.06926728785037994\n"
     ]
    },
    {
     "name": "stdout",
     "output_type": "stream",
     "text": [
      "debug: ************************ i:  24\n",
      "loss_value:  0.06999333202838898\n",
      "debug: ************************ i:  25\n",
      "loss_value:  0.06253160536289215\n"
     ]
    },
    {
     "name": "stdout",
     "output_type": "stream",
     "text": [
      "debug: ************************ i:  26\n",
      "loss_value:  0.0526248998939991\n",
      "debug: ************************ i:  27\n",
      "loss_value:  0.0555967278778553\n"
     ]
    },
    {
     "name": "stdout",
     "output_type": "stream",
     "text": [
      "debug: ************************ i:  28\n",
      "loss_value:  0.0689975842833519\n",
      "debug: ************************ i:  29\n",
      "loss_value:  0.07496626675128937\n"
     ]
    },
    {
     "name": "stdout",
     "output_type": "stream",
     "text": [
      "debug: ************************ i:  30\n",
      "loss_value:  0.07405105233192444\n",
      "debug: ************************ i:  31\n",
      "loss_value:  0.058552131056785583\n"
     ]
    },
    {
     "name": "stdout",
     "output_type": "stream",
     "text": [
      "debug: ************************ i:  32\n",
      "loss_value:  0.06154133006930351\n",
      "debug: ************************ i:  33\n",
      "loss_value:  0.054442841559648514\n"
     ]
    },
    {
     "name": "stdout",
     "output_type": "stream",
     "text": [
      "debug: ************************ i:  34\n",
      "loss_value:  0.07446866482496262\n"
     ]
    },
    {
     "name": "stdout",
     "output_type": "stream",
     "text": [
      "debug: ************************ i:  35\n",
      "loss_value:  0.06838614493608475\n",
      "debug: ************************ i:  36\n",
      "loss_value:  0.06189177185297012\n"
     ]
    },
    {
     "name": "stdout",
     "output_type": "stream",
     "text": [
      "debug: ************************ i:  37\n",
      "loss_value:  0.06761015206575394\n"
     ]
    },
    {
     "data": {
      "text/plain": [
       "Validation:   0%|          | 0/10 [00:00<?, ?it/s]"
      ]
     },
     "metadata": {},
     "output_type": "display_data"
    },
    {
     "name": "stdout",
     "output_type": "stream",
     "text": [
      "debut1: ******************: i:  8\n"
     ]
    },
    {
     "data": {
      "text/plain": [
       "Training:   0%|          | 0/38 [00:00<?, ?it/s]"
      ]
     },
     "metadata": {},
     "output_type": "display_data"
    },
    {
     "name": "stdout",
     "output_type": "stream",
     "text": [
      "debug: ************************ i:  0\n",
      "loss_value:  0.0717676654458046\n"
     ]
    },
    {
     "name": "stdout",
     "output_type": "stream",
     "text": [
      "debug: ************************ i:  1\n",
      "loss_value:  0.06017053872346878\n"
     ]
    },
    {
     "name": "stdout",
     "output_type": "stream",
     "text": [
      "debug: ************************ i:  2\n",
      "loss_value:  0.06583011150360107\n"
     ]
    },
    {
     "name": "stdout",
     "output_type": "stream",
     "text": [
      "debug: ************************ i:  3\n",
      "loss_value:  0.06636915355920792\n"
     ]
    },
    {
     "name": "stdout",
     "output_type": "stream",
     "text": [
      "debug: ************************ i:  4\n",
      "loss_value:  0.062350694090127945\n"
     ]
    },
    {
     "name": "stdout",
     "output_type": "stream",
     "text": [
      "debug: ************************ i:  5\n",
      "loss_value:  0.061125241219997406\n"
     ]
    },
    {
     "name": "stdout",
     "output_type": "stream",
     "text": [
      "debug: ************************ i:  6\n",
      "loss_value:  0.06900056451559067\n"
     ]
    },
    {
     "name": "stdout",
     "output_type": "stream",
     "text": [
      "debug: ************************ i:  7\n",
      "loss_value:  0.06768335402011871\n"
     ]
    },
    {
     "name": "stdout",
     "output_type": "stream",
     "text": [
      "debug: ************************ i:  8\n",
      "loss_value:  0.06360555440187454\n"
     ]
    },
    {
     "name": "stdout",
     "output_type": "stream",
     "text": [
      "debug: ************************ i:  9\n",
      "loss_value:  0.05667766556143761\n"
     ]
    },
    {
     "name": "stdout",
     "output_type": "stream",
     "text": [
      "debug: ************************ i:  10\n",
      "loss_value:  0.061152052134275436\n"
     ]
    },
    {
     "name": "stdout",
     "output_type": "stream",
     "text": [
      "debug: ************************ i:  11\n",
      "loss_value:  0.05361935496330261\n"
     ]
    },
    {
     "name": "stdout",
     "output_type": "stream",
     "text": [
      "debug: ************************ i:  12\n",
      "loss_value:  0.07354843616485596\n"
     ]
    },
    {
     "name": "stdout",
     "output_type": "stream",
     "text": [
      "debug: ************************ i:  13\n",
      "loss_value:  0.07288151234388351\n"
     ]
    },
    {
     "name": "stdout",
     "output_type": "stream",
     "text": [
      "debug: ************************ i:  14\n",
      "loss_value:  0.0751068964600563\n"
     ]
    },
    {
     "name": "stdout",
     "output_type": "stream",
     "text": [
      "debug: ************************ i:  15\n",
      "loss_value:  0.06216888129711151\n"
     ]
    },
    {
     "name": "stdout",
     "output_type": "stream",
     "text": [
      "debug: ************************ i:  16\n",
      "loss_value:  0.06459535658359528\n"
     ]
    },
    {
     "name": "stdout",
     "output_type": "stream",
     "text": [
      "debug: ************************ i:  17\n",
      "loss_value:  0.05814582481980324\n"
     ]
    },
    {
     "name": "stdout",
     "output_type": "stream",
     "text": [
      "debug: ************************ i:  18\n",
      "loss_value:  0.06859509646892548\n"
     ]
    },
    {
     "name": "stdout",
     "output_type": "stream",
     "text": [
      "debug: ************************ i:  19\n",
      "loss_value:  0.06370797008275986\n"
     ]
    },
    {
     "name": "stdout",
     "output_type": "stream",
     "text": [
      "debug: ************************ i:  20\n",
      "loss_value:  0.06312239170074463\n"
     ]
    },
    {
     "name": "stdout",
     "output_type": "stream",
     "text": [
      "debug: ************************ i:  21\n",
      "loss_value:  0.07888464629650116\n"
     ]
    },
    {
     "name": "stdout",
     "output_type": "stream",
     "text": [
      "debug: ************************ i:  22\n",
      "loss_value:  0.061341509222984314\n"
     ]
    },
    {
     "name": "stdout",
     "output_type": "stream",
     "text": [
      "debug: ************************ i:  23\n",
      "loss_value:  0.05920001491904259\n"
     ]
    },
    {
     "name": "stdout",
     "output_type": "stream",
     "text": [
      "debug: ************************ i:  24\n",
      "loss_value:  0.06338898092508316\n"
     ]
    },
    {
     "name": "stdout",
     "output_type": "stream",
     "text": [
      "debug: ************************ i:  25\n",
      "loss_value:  0.05340060591697693\n"
     ]
    },
    {
     "name": "stdout",
     "output_type": "stream",
     "text": [
      "debug: ************************ i:  26\n",
      "loss_value:  0.05673845484852791\n"
     ]
    },
    {
     "name": "stdout",
     "output_type": "stream",
     "text": [
      "debug: ************************ i:  27\n",
      "loss_value:  0.06604727357625961\n"
     ]
    },
    {
     "name": "stdout",
     "output_type": "stream",
     "text": [
      "debug: ************************ i:  28\n",
      "loss_value:  0.08089708536863327\n"
     ]
    },
    {
     "name": "stdout",
     "output_type": "stream",
     "text": [
      "debug: ************************ i:  29\n",
      "loss_value:  0.057341866195201874\n"
     ]
    },
    {
     "name": "stdout",
     "output_type": "stream",
     "text": [
      "debug: ************************ i:  30\n",
      "loss_value:  0.06467989087104797\n"
     ]
    },
    {
     "name": "stdout",
     "output_type": "stream",
     "text": [
      "debug: ************************ i:  31\n",
      "loss_value:  0.06338008493185043\n"
     ]
    },
    {
     "name": "stdout",
     "output_type": "stream",
     "text": [
      "debug: ************************ i:  32\n",
      "loss_value:  0.06685248762369156\n"
     ]
    },
    {
     "name": "stdout",
     "output_type": "stream",
     "text": [
      "debug: ************************ i:  33\n",
      "loss_value:  0.05687778815627098\n",
      "debug: ************************ i:  34\n",
      "loss_value:  0.058318618685007095\n"
     ]
    },
    {
     "name": "stdout",
     "output_type": "stream",
     "text": [
      "debug: ************************ i:  35\n",
      "loss_value:  0.059628602117300034\n",
      "debug: ************************ i:  36\n",
      "loss_value:  0.05433391034603119\n"
     ]
    },
    {
     "name": "stdout",
     "output_type": "stream",
     "text": [
      "debug: ************************ i:  37\n",
      "loss_value:  0.07483163475990295\n"
     ]
    },
    {
     "data": {
      "text/plain": [
       "Validation:   0%|          | 0/10 [00:00<?, ?it/s]"
      ]
     },
     "metadata": {},
     "output_type": "display_data"
    },
    {
     "name": "stdout",
     "output_type": "stream",
     "text": [
      "debut1: ******************: i:  9\n"
     ]
    },
    {
     "data": {
      "text/plain": [
       "Training:   0%|          | 0/38 [00:00<?, ?it/s]"
      ]
     },
     "metadata": {},
     "output_type": "display_data"
    },
    {
     "name": "stdout",
     "output_type": "stream",
     "text": [
      "debug: ************************ i:  0\n",
      "loss_value:  0.05683501064777374\n"
     ]
    },
    {
     "name": "stdout",
     "output_type": "stream",
     "text": [
      "debug: ************************ i:  1\n",
      "loss_value:  0.05544538050889969\n"
     ]
    },
    {
     "name": "stdout",
     "output_type": "stream",
     "text": [
      "debug: ************************ i:  2\n",
      "loss_value:  0.05075689032673836\n"
     ]
    },
    {
     "name": "stdout",
     "output_type": "stream",
     "text": [
      "debug: ************************ i:  3\n",
      "loss_value:  0.0494207963347435\n"
     ]
    },
    {
     "name": "stdout",
     "output_type": "stream",
     "text": [
      "debug: ************************ i:  4\n",
      "loss_value:  0.08136744052171707\n"
     ]
    },
    {
     "name": "stdout",
     "output_type": "stream",
     "text": [
      "debug: ************************ i:  5\n",
      "loss_value:  0.0508233942091465\n"
     ]
    },
    {
     "name": "stdout",
     "output_type": "stream",
     "text": [
      "debug: ************************ i:  6\n",
      "loss_value:  0.06266044080257416\n"
     ]
    },
    {
     "name": "stdout",
     "output_type": "stream",
     "text": [
      "debug: ************************ i:  7\n",
      "loss_value:  0.06386226415634155\n"
     ]
    },
    {
     "name": "stdout",
     "output_type": "stream",
     "text": [
      "debug: ************************ i:  8\n",
      "loss_value:  0.05903557315468788\n"
     ]
    },
    {
     "name": "stdout",
     "output_type": "stream",
     "text": [
      "debug: ************************ i:  9\n",
      "loss_value:  0.05686274543404579\n",
      "debug: ************************ i:  10\n",
      "loss_value:  0.07119666785001755\n"
     ]
    },
    {
     "name": "stdout",
     "output_type": "stream",
     "text": [
      "debug: ************************ i:  11\n",
      "loss_value:  0.06260304898023605\n",
      "debug: ************************ i:  12\n",
      "loss_value:  0.052949149161577225\n"
     ]
    },
    {
     "name": "stdout",
     "output_type": "stream",
     "text": [
      "debug: ************************ i:  13\n",
      "loss_value:  0.06595027446746826\n",
      "debug: ************************ i:  14\n",
      "loss_value:  0.06291307508945465\n"
     ]
    },
    {
     "name": "stdout",
     "output_type": "stream",
     "text": [
      "debug: ************************ i:  15\n",
      "loss_value:  0.07320764660835266\n",
      "debug: ************************ i:  16\n",
      "loss_value:  0.04860687255859375\n"
     ]
    },
    {
     "name": "stdout",
     "output_type": "stream",
     "text": [
      "debug: ************************ i:  17\n",
      "loss_value:  0.055710092186927795\n"
     ]
    },
    {
     "name": "stdout",
     "output_type": "stream",
     "text": [
      "debug: ************************ i:  18\n",
      "loss_value:  0.06418334692716599\n",
      "debug: ************************ i:  19\n",
      "loss_value:  0.0587276965379715\n"
     ]
    },
    {
     "name": "stdout",
     "output_type": "stream",
     "text": [
      "debug: ************************ i:  20\n",
      "loss_value:  0.05617305263876915\n",
      "debug: ************************ i:  21\n",
      "loss_value:  0.048013050109148026\n"
     ]
    },
    {
     "name": "stdout",
     "output_type": "stream",
     "text": [
      "debug: ************************ i:  22\n",
      "loss_value:  0.06591393053531647\n",
      "debug: ************************ i:  23\n",
      "loss_value:  0.0817321166396141\n"
     ]
    },
    {
     "name": "stdout",
     "output_type": "stream",
     "text": [
      "debug: ************************ i:  24\n",
      "loss_value:  0.07690044492483139\n",
      "debug: ************************ i:  25\n",
      "loss_value:  0.05751689150929451\n"
     ]
    },
    {
     "name": "stdout",
     "output_type": "stream",
     "text": [
      "debug: ************************ i:  26\n",
      "loss_value:  0.06500699371099472\n",
      "debug: ************************ i:  27\n",
      "loss_value:  0.06511237472295761\n"
     ]
    },
    {
     "name": "stdout",
     "output_type": "stream",
     "text": [
      "debug: ************************ i:  28\n",
      "loss_value:  0.05255065858364105\n",
      "debug: ************************ i:  29\n",
      "loss_value:  0.06687000393867493\n"
     ]
    },
    {
     "name": "stdout",
     "output_type": "stream",
     "text": [
      "debug: ************************ i:  30\n",
      "loss_value:  0.05960630998015404\n",
      "debug: ************************ i:  31\n",
      "loss_value:  0.04846956953406334\n"
     ]
    },
    {
     "name": "stdout",
     "output_type": "stream",
     "text": [
      "debug: ************************ i:  32\n",
      "loss_value:  0.057578328996896744\n",
      "debug: ************************ i:  33\n",
      "loss_value:  0.047717031091451645\n"
     ]
    },
    {
     "name": "stdout",
     "output_type": "stream",
     "text": [
      "debug: ************************ i:  34\n",
      "loss_value:  0.05281006172299385\n",
      "debug: ************************ i:  35\n",
      "loss_value:  0.0549289844930172\n"
     ]
    },
    {
     "name": "stdout",
     "output_type": "stream",
     "text": [
      "debug: ************************ i:  36\n",
      "loss_value:  0.05509389191865921\n",
      "debug: ************************ i:  37\n",
      "loss_value:  0.043841440230607986\n"
     ]
    },
    {
     "data": {
      "text/plain": [
       "Validation:   0%|          | 0/10 [00:00<?, ?it/s]"
      ]
     },
     "metadata": {},
     "output_type": "display_data"
    }
   ],
   "source": [
    "# device\n",
    "if torch.cuda.is_available():\n",
    "    device = torch.device('cuda')\n",
    "else:\n",
    "    device = torch.device('cpu')\n",
    "\n",
    "# model\n",
    "model = UNet(in_channels=3,\n",
    "             out_channels=2,\n",
    "             n_blocks=4,\n",
    "             start_filters=32,\n",
    "             activation='relu',\n",
    "             normalization='batch',\n",
    "             conv_mode='same',\n",
    "             dim=2).to(device)\n",
    "\n",
    "# criterion\n",
    "criterion = torch.nn.CrossEntropyLoss()\n",
    "\n",
    "# optimizer\n",
    "optimizer = torch.optim.SGD(model.parameters(), lr=0.01)\n",
    "\n",
    "# trainer\n",
    "trainer = Trainer(model=model,\n",
    "                  device=device,\n",
    "                  criterion=criterion,\n",
    "                  optimizer=optimizer,\n",
    "                  training_DataLoader=dataloader_training,\n",
    "                  validation_DataLoader=dataloader_validation,\n",
    "                  lr_scheduler=None,\n",
    "                  epochs=10,\n",
    "                  epoch=0,\n",
    "                  notebook=True)\n",
    "\n",
    "# start training\n",
    "training_losses, validation_losses, lr_rates = trainer.run_trainer()"
   ]
  },
  {
   "cell_type": "markdown",
   "metadata": {
    "ein.tags": "worksheet-0",
    "slideshow": {
     "slide_type": "-"
    }
   },
   "source": [
    "# Training with customdataset 3"
   ]
  },
  {
   "cell_type": "code",
   "execution_count": 11,
   "metadata": {
    "autoscroll": false,
    "collapsed": false,
    "ein.hycell": false,
    "ein.tags": "worksheet-0",
    "slideshow": {
     "slide_type": "-"
    }
   },
   "outputs": [],
   "source": [
    "# Imports\n",
    "import pathlib\n",
    "from transformations import ComposeDouble, normalize_01, AlbuSeg2d, FunctionWrapperDouble, create_dense_target\n",
    "from sklearn.model_selection import train_test_split\n",
    "from customdatasets import SegmentationDataSet3\n",
    "import torch\n",
    "import numpy as np\n",
    "from unet import UNet\n",
    "from trainer import Trainer\n",
    "from torch.utils.data import DataLoader\n",
    "from skimage.transform import resize\n",
    "import albumentations\n",
    "\n",
    "# root directory\n",
    "root = pathlib.Path.cwd() / 'Carvana'\n",
    "\n",
    "\n",
    "def get_filenames_of_path(path: pathlib.Path, ext: str = '*'):\n",
    "    \"\"\"Returns a list of files in a directory/path. Uses pathlib.\"\"\"\n",
    "    filenames = [file for file in path.glob(ext) if file.is_file()]\n",
    "    return filenames\n",
    "\n",
    "\n",
    "# input and target files\n",
    "inputs = get_filenames_of_path(root / 'Input')\n",
    "targets = get_filenames_of_path(root / 'Target')\n",
    "\n",
    "# pre-transformations\n",
    "pre_transforms = ComposeDouble([\n",
    "    FunctionWrapperDouble(resize,\n",
    "                          input=True,\n",
    "                          target=False,\n",
    "                          output_shape=(128, 128, 3)),\n",
    "    FunctionWrapperDouble(resize,\n",
    "                          input=False,\n",
    "                          target=True,\n",
    "                          output_shape=(128, 128),\n",
    "                          order=0,\n",
    "                          anti_aliasing=False,\n",
    "                          preserve_range=True),\n",
    "])\n",
    "\n",
    "# training transformations and augmentations\n",
    "transforms_training = ComposeDouble([\n",
    "    AlbuSeg2d(albumentations.HorizontalFlip(p=0.5)),\n",
    "    FunctionWrapperDouble(create_dense_target, input=False, target=True),\n",
    "    FunctionWrapperDouble(np.moveaxis, input=True, target=False, source=-1, destination=0),\n",
    "    FunctionWrapperDouble(normalize_01)\n",
    "])\n",
    "\n",
    "# validation transformations\n",
    "transforms_validation = ComposeDouble([\n",
    "    FunctionWrapperDouble(resize,\n",
    "                          input=True,\n",
    "                          target=False,\n",
    "                          output_shape=(128, 128, 3)),\n",
    "    FunctionWrapperDouble(resize,\n",
    "                          input=False,\n",
    "                          target=True,\n",
    "                          output_shape=(128, 128),\n",
    "                          order=0,\n",
    "                          anti_aliasing=False,\n",
    "                          preserve_range=True),\n",
    "    FunctionWrapperDouble(create_dense_target, input=False, target=True),\n",
    "    FunctionWrapperDouble(np.moveaxis, input=True, target=False, source=-1, destination=0),\n",
    "    FunctionWrapperDouble(normalize_01)\n",
    "])\n",
    "\n",
    "# random seed\n",
    "random_seed = 42\n",
    "\n",
    "# split dataset into training set and validation set\n",
    "train_size = 0.8  # 80:20 split\n",
    "\n",
    "inputs_train, inputs_valid = train_test_split(\n",
    "    inputs,\n",
    "    random_state=random_seed,\n",
    "    train_size=train_size,\n",
    "    shuffle=True)\n",
    "\n",
    "targets_train, targets_valid = train_test_split(\n",
    "    targets,\n",
    "    random_state=random_seed,\n",
    "    train_size=train_size,\n",
    "    shuffle=True)\n",
    "\n",
    "# inputs_train, inputs_valid = inputs[:80], inputs[80:]\n",
    "# targets_train, targets_valid = targets[:80], targets[:80]\n",
    "\n",
    "# dataset training\n",
    "dataset_train = SegmentationDataSet3(inputs=inputs_train,\n",
    "                                    targets=targets_train,\n",
    "                                    transform=transforms_training,\n",
    "                                    use_cache=True,\n",
    "                                    pre_transform=pre_transforms)\n",
    "\n",
    "# dataset validation\n",
    "dataset_valid = SegmentationDataSet3(inputs=inputs_valid,\n",
    "                                    targets=targets_valid,\n",
    "                                    transform=transforms_validation,\n",
    "                                    use_cache=True,\n",
    "                                    pre_transform=pre_transforms)\n",
    "\n",
    "# dataloader training\n",
    "dataloader_training = DataLoader(dataset=dataset_train,\n",
    "                                 batch_size=2,\n",
    "                                 shuffle=True)\n",
    "\n",
    "# dataloader validation\n",
    "dataloader_validation = DataLoader(dataset=dataset_valid,\n",
    "                                   batch_size=2,\n",
    "                                   shuffle=True)"
   ]
  },
  {
   "cell_type": "code",
   "execution_count": 12,
   "metadata": {
    "autoscroll": false,
    "collapsed": false,
    "ein.hycell": false,
    "ein.tags": "worksheet-0",
    "slideshow": {
     "slide_type": "-"
    }
   },
   "outputs": [
    {
     "data": {
      "text/plain": [
       "Progress:   0%|          | 0/10 [00:00<?, ?it/s]"
      ]
     },
     "metadata": {},
     "output_type": "display_data"
    },
    {
     "name": "stdout",
     "output_type": "stream",
     "text": [
      "debut1: ******************: i:  0\n"
     ]
    },
    {
     "data": {
      "text/plain": [
       "Training:   0%|          | 0/38 [00:00<?, ?it/s]"
      ]
     },
     "metadata": {},
     "output_type": "display_data"
    },
    {
     "name": "stdout",
     "output_type": "stream",
     "text": [
      "debug: ************************ i:  0\n",
      "loss_value:  1.0320719480514526\n"
     ]
    },
    {
     "name": "stdout",
     "output_type": "stream",
     "text": [
      "debug: ************************ i:  1\n",
      "loss_value:  0.9737902283668518\n"
     ]
    },
    {
     "name": "stdout",
     "output_type": "stream",
     "text": [
      "debug: ************************ i:  2\n",
      "loss_value:  0.842967689037323\n"
     ]
    },
    {
     "name": "stdout",
     "output_type": "stream",
     "text": [
      "debug: ************************ i:  3\n",
      "loss_value:  0.8536900877952576\n"
     ]
    },
    {
     "name": "stdout",
     "output_type": "stream",
     "text": [
      "debug: ************************ i:  4\n",
      "loss_value:  0.7267526388168335\n"
     ]
    },
    {
     "name": "stdout",
     "output_type": "stream",
     "text": [
      "debug: ************************ i:  5\n",
      "loss_value:  0.8322537541389465\n"
     ]
    },
    {
     "name": "stdout",
     "output_type": "stream",
     "text": [
      "debug: ************************ i:  6\n",
      "loss_value:  0.7997874021530151\n",
      "debug: ************************ i:  7\n",
      "loss_value:  0.65365070104599\n"
     ]
    },
    {
     "name": "stdout",
     "output_type": "stream",
     "text": [
      "debug: ************************ i:  8\n",
      "loss_value:  0.6449316740036011\n",
      "debug: ************************ i:  9\n",
      "loss_value:  0.5402929186820984\n"
     ]
    },
    {
     "name": "stdout",
     "output_type": "stream",
     "text": [
      "debug: ************************ i:  10\n",
      "loss_value:  0.7605942487716675\n",
      "debug: ************************ i:  11\n",
      "loss_value:  0.6571066379547119\n"
     ]
    },
    {
     "name": "stdout",
     "output_type": "stream",
     "text": [
      "debug: ************************ i:  12\n",
      "loss_value:  0.7318183183670044\n",
      "debug: ************************ i:  13\n",
      "loss_value:  0.6803799271583557\n"
     ]
    },
    {
     "name": "stdout",
     "output_type": "stream",
     "text": [
      "debug: ************************ i:  14\n",
      "loss_value:  0.6032727956771851\n",
      "debug: ************************ i:  15\n",
      "loss_value:  0.5401906967163086\n"
     ]
    },
    {
     "name": "stdout",
     "output_type": "stream",
     "text": [
      "debug: ************************ i:  16\n",
      "loss_value:  0.5425052642822266\n"
     ]
    },
    {
     "name": "stdout",
     "output_type": "stream",
     "text": [
      "debug: ************************ i:  17\n",
      "loss_value:  0.477145254611969\n",
      "debug: ************************ i:  18\n",
      "loss_value:  0.5325703024864197\n"
     ]
    },
    {
     "name": "stdout",
     "output_type": "stream",
     "text": [
      "debug: ************************ i:  19\n",
      "loss_value:  0.47909680008888245\n",
      "debug: ************************ i:  20\n",
      "loss_value:  0.4735911190509796\n"
     ]
    },
    {
     "name": "stdout",
     "output_type": "stream",
     "text": [
      "debug: ************************ i:  21\n",
      "loss_value:  0.47333773970603943\n",
      "debug: ************************ i:  22\n",
      "loss_value:  0.49169591069221497\n"
     ]
    },
    {
     "name": "stdout",
     "output_type": "stream",
     "text": [
      "debug: ************************ i:  23\n",
      "loss_value:  0.49835634231567383\n",
      "debug: ************************ i:  24\n",
      "loss_value:  0.5210587978363037\n"
     ]
    },
    {
     "name": "stdout",
     "output_type": "stream",
     "text": [
      "debug: ************************ i:  25\n",
      "loss_value:  0.44387638568878174\n",
      "debug: ************************ i:  26\n",
      "loss_value:  0.472108393907547\n"
     ]
    },
    {
     "name": "stdout",
     "output_type": "stream",
     "text": [
      "debug: ************************ i:  27\n",
      "loss_value:  0.4140298068523407\n",
      "debug: ************************ i:  28\n",
      "loss_value:  0.4235636591911316\n"
     ]
    },
    {
     "name": "stdout",
     "output_type": "stream",
     "text": [
      "debug: ************************ i:  29\n",
      "loss_value:  0.4515397846698761\n",
      "debug: ************************ i:  30\n",
      "loss_value:  0.4174714684486389\n"
     ]
    },
    {
     "name": "stdout",
     "output_type": "stream",
     "text": [
      "debug: ************************ i:  31\n",
      "loss_value:  0.48774927854537964\n",
      "debug: ************************ i:  32\n",
      "loss_value:  0.4127267897129059\n"
     ]
    },
    {
     "name": "stdout",
     "output_type": "stream",
     "text": [
      "debug: ************************ i:  33\n",
      "loss_value:  0.3780723810195923\n",
      "debug: ************************ i:  34\n",
      "loss_value:  0.4358532428741455\n"
     ]
    },
    {
     "name": "stdout",
     "output_type": "stream",
     "text": [
      "debug: ************************ i:  35\n",
      "loss_value:  0.45952779054641724\n"
     ]
    },
    {
     "name": "stdout",
     "output_type": "stream",
     "text": [
      "debug: ************************ i:  36\n",
      "loss_value:  0.33257782459259033\n"
     ]
    },
    {
     "name": "stdout",
     "output_type": "stream",
     "text": [
      "debug: ************************ i:  37\n",
      "loss_value:  0.39264076948165894\n"
     ]
    },
    {
     "data": {
      "text/plain": [
       "Validation:   0%|          | 0/10 [00:00<?, ?it/s]"
      ]
     },
     "metadata": {},
     "output_type": "display_data"
    },
    {
     "name": "stdout",
     "output_type": "stream",
     "text": [
      "debut1: ******************: i:  1\n"
     ]
    },
    {
     "data": {
      "text/plain": [
       "Training:   0%|          | 0/38 [00:00<?, ?it/s]"
      ]
     },
     "metadata": {},
     "output_type": "display_data"
    },
    {
     "name": "stdout",
     "output_type": "stream",
     "text": [
      "debug: ************************ i:  0\n",
      "loss_value:  0.3822533190250397\n"
     ]
    },
    {
     "name": "stdout",
     "output_type": "stream",
     "text": [
      "debug: ************************ i:  1\n",
      "loss_value:  0.38096365332603455\n"
     ]
    },
    {
     "name": "stdout",
     "output_type": "stream",
     "text": [
      "debug: ************************ i:  2\n",
      "loss_value:  0.3708551824092865\n"
     ]
    },
    {
     "name": "stdout",
     "output_type": "stream",
     "text": [
      "debug: ************************ i:  3\n",
      "loss_value:  0.3405925929546356\n"
     ]
    },
    {
     "name": "stdout",
     "output_type": "stream",
     "text": [
      "debug: ************************ i:  4\n",
      "loss_value:  0.36108580231666565\n",
      "debug: ************************ i:  5\n",
      "loss_value:  0.3110750913619995\n"
     ]
    },
    {
     "name": "stdout",
     "output_type": "stream",
     "text": [
      "debug: ************************ i:  6\n",
      "loss_value:  0.32846394181251526\n",
      "debug: ************************ i:  7\n",
      "loss_value:  0.28601640462875366\n"
     ]
    },
    {
     "name": "stdout",
     "output_type": "stream",
     "text": [
      "debug: ************************ i:  8\n",
      "loss_value:  0.4579746723175049\n",
      "debug: ************************ i:  9\n",
      "loss_value:  0.37144044041633606\n"
     ]
    },
    {
     "name": "stdout",
     "output_type": "stream",
     "text": [
      "debug: ************************ i:  10\n",
      "loss_value:  0.29953673481941223\n",
      "debug: ************************ i:  11\n",
      "loss_value:  0.31567466259002686\n"
     ]
    },
    {
     "name": "stdout",
     "output_type": "stream",
     "text": [
      "debug: ************************ i:  12\n",
      "loss_value:  0.31090569496154785\n"
     ]
    },
    {
     "name": "stdout",
     "output_type": "stream",
     "text": [
      "debug: ************************ i:  13\n",
      "loss_value:  0.3024536073207855\n",
      "debug: ************************ i:  14\n",
      "loss_value:  0.309871643781662\n"
     ]
    },
    {
     "name": "stdout",
     "output_type": "stream",
     "text": [
      "debug: ************************ i:  15\n",
      "loss_value:  0.2762314975261688\n",
      "debug: ************************ i:  16\n",
      "loss_value:  0.32255488634109497\n"
     ]
    },
    {
     "name": "stdout",
     "output_type": "stream",
     "text": [
      "debug: ************************ i:  17\n",
      "loss_value:  0.3378368020057678\n",
      "debug: ************************ i:  18\n",
      "loss_value:  0.3197939395904541\n"
     ]
    },
    {
     "name": "stdout",
     "output_type": "stream",
     "text": [
      "debug: ************************ i:  19\n",
      "loss_value:  0.30886849761009216\n",
      "debug: ************************ i:  20\n",
      "loss_value:  0.2605748176574707\n"
     ]
    },
    {
     "name": "stdout",
     "output_type": "stream",
     "text": [
      "debug: ************************ i:  21\n",
      "loss_value:  0.2689887583255768\n",
      "debug: ************************ i:  22\n",
      "loss_value:  0.23298034071922302\n"
     ]
    },
    {
     "name": "stdout",
     "output_type": "stream",
     "text": [
      "debug: ************************ i:  23\n",
      "loss_value:  0.3116990923881531\n",
      "debug: ************************ i:  24\n",
      "loss_value:  0.31226667761802673\n"
     ]
    },
    {
     "name": "stdout",
     "output_type": "stream",
     "text": [
      "debug: ************************ i:  25\n",
      "loss_value:  0.2280815690755844\n",
      "debug: ************************ i:  26\n",
      "loss_value:  0.26079827547073364\n"
     ]
    },
    {
     "name": "stdout",
     "output_type": "stream",
     "text": [
      "debug: ************************ i:  27\n",
      "loss_value:  0.23400583863258362\n",
      "debug: ************************ i:  28\n",
      "loss_value:  0.20292405784130096\n"
     ]
    },
    {
     "name": "stdout",
     "output_type": "stream",
     "text": [
      "debug: ************************ i:  29\n",
      "loss_value:  0.23813581466674805\n",
      "debug: ************************ i:  30\n",
      "loss_value:  0.2373722493648529\n"
     ]
    },
    {
     "name": "stdout",
     "output_type": "stream",
     "text": [
      "debug: ************************ i:  31\n",
      "loss_value:  0.2471158355474472\n",
      "debug: ************************ i:  32\n",
      "loss_value:  0.24751748144626617\n"
     ]
    },
    {
     "name": "stdout",
     "output_type": "stream",
     "text": [
      "debug: ************************ i:  33\n",
      "loss_value:  0.2035839706659317\n"
     ]
    },
    {
     "name": "stdout",
     "output_type": "stream",
     "text": [
      "debug: ************************ i:  34\n",
      "loss_value:  0.25002673268318176\n",
      "debug: ************************ i:  35\n",
      "loss_value:  0.2647794783115387\n"
     ]
    },
    {
     "name": "stdout",
     "output_type": "stream",
     "text": [
      "debug: ************************ i:  36\n",
      "loss_value:  0.2119232565164566\n",
      "debug: ************************ i:  37\n",
      "loss_value:  0.24296948313713074\n"
     ]
    },
    {
     "data": {
      "text/plain": [
       "Validation:   0%|          | 0/10 [00:00<?, ?it/s]"
      ]
     },
     "metadata": {},
     "output_type": "display_data"
    },
    {
     "name": "stdout",
     "output_type": "stream",
     "text": [
      "debut1: ******************: i:  2\n"
     ]
    },
    {
     "data": {
      "text/plain": [
       "Training:   0%|          | 0/38 [00:00<?, ?it/s]"
      ]
     },
     "metadata": {},
     "output_type": "display_data"
    },
    {
     "name": "stdout",
     "output_type": "stream",
     "text": [
      "debug: ************************ i:  0\n",
      "loss_value:  0.23313197493553162\n",
      "debug: ************************ i:  1\n",
      "loss_value:  0.27312135696411133\n"
     ]
    },
    {
     "name": "stdout",
     "output_type": "stream",
     "text": [
      "debug: ************************ i:  2\n",
      "loss_value:  0.2114834040403366\n",
      "debug: ************************ i:  3\n",
      "loss_value:  0.1779809296131134\n"
     ]
    },
    {
     "name": "stdout",
     "output_type": "stream",
     "text": [
      "debug: ************************ i:  4\n",
      "loss_value:  0.24401655793190002\n",
      "debug: ************************ i:  5\n",
      "loss_value:  0.22857792675495148\n"
     ]
    },
    {
     "name": "stdout",
     "output_type": "stream",
     "text": [
      "debug: ************************ i:  6\n",
      "loss_value:  0.21030864119529724\n",
      "debug: ************************ i:  7\n",
      "loss_value:  0.16891783475875854\n"
     ]
    },
    {
     "name": "stdout",
     "output_type": "stream",
     "text": [
      "debug: ************************ i:  8\n",
      "loss_value:  0.223790243268013\n",
      "debug: ************************ i:  9\n",
      "loss_value:  0.2580069899559021\n"
     ]
    },
    {
     "name": "stdout",
     "output_type": "stream",
     "text": [
      "debug: ************************ i:  10\n",
      "loss_value:  0.198664590716362\n",
      "debug: ************************ i:  11\n",
      "loss_value:  0.15784919261932373\n"
     ]
    },
    {
     "name": "stdout",
     "output_type": "stream",
     "text": [
      "debug: ************************ i:  12\n",
      "loss_value:  0.20907357335090637\n",
      "debug: ************************ i:  13\n",
      "loss_value:  0.16737303137779236\n"
     ]
    },
    {
     "name": "stdout",
     "output_type": "stream",
     "text": [
      "debug: ************************ i:  14\n",
      "loss_value:  0.18112264573574066\n",
      "debug: ************************ i:  15\n",
      "loss_value:  0.17061451077461243\n"
     ]
    },
    {
     "name": "stdout",
     "output_type": "stream",
     "text": [
      "debug: ************************ i:  16\n",
      "loss_value:  0.16986607015132904\n",
      "debug: ************************ i:  17\n",
      "loss_value:  0.15596872568130493\n"
     ]
    },
    {
     "name": "stdout",
     "output_type": "stream",
     "text": [
      "debug: ************************ i:  18\n",
      "loss_value:  0.2061302363872528\n",
      "debug: ************************ i:  19\n",
      "loss_value:  0.23087595403194427\n"
     ]
    },
    {
     "name": "stdout",
     "output_type": "stream",
     "text": [
      "debug: ************************ i:  20\n",
      "loss_value:  0.15516729652881622\n",
      "debug: ************************ i:  21\n",
      "loss_value:  0.15727314352989197\n"
     ]
    },
    {
     "name": "stdout",
     "output_type": "stream",
     "text": [
      "debug: ************************ i:  22\n",
      "loss_value:  0.20454494655132294\n",
      "debug: ************************ i:  23\n",
      "loss_value:  0.15258903801441193\n"
     ]
    },
    {
     "name": "stdout",
     "output_type": "stream",
     "text": [
      "debug: ************************ i:  24\n",
      "loss_value:  0.18053138256072998\n",
      "debug: ************************ i:  25\n",
      "loss_value:  0.14127400517463684\n"
     ]
    },
    {
     "name": "stdout",
     "output_type": "stream",
     "text": [
      "debug: ************************ i:  26\n",
      "loss_value:  0.1711772233247757\n",
      "debug: ************************ i:  27\n",
      "loss_value:  0.1578918844461441\n"
     ]
    },
    {
     "name": "stdout",
     "output_type": "stream",
     "text": [
      "debug: ************************ i:  28\n",
      "loss_value:  0.1533588469028473\n",
      "debug: ************************ i:  29\n",
      "loss_value:  0.16766513884067535\n"
     ]
    },
    {
     "name": "stdout",
     "output_type": "stream",
     "text": [
      "debug: ************************ i:  30\n",
      "loss_value:  0.15027931332588196\n",
      "debug: ************************ i:  31\n",
      "loss_value:  0.17060333490371704\n"
     ]
    },
    {
     "name": "stdout",
     "output_type": "stream",
     "text": [
      "debug: ************************ i:  32\n",
      "loss_value:  0.1867998093366623\n",
      "debug: ************************ i:  33\n",
      "loss_value:  0.17139632999897003\n"
     ]
    },
    {
     "name": "stdout",
     "output_type": "stream",
     "text": [
      "debug: ************************ i:  34\n",
      "loss_value:  0.14963510632514954\n",
      "debug: ************************ i:  35\n",
      "loss_value:  0.1538248509168625\n"
     ]
    },
    {
     "name": "stdout",
     "output_type": "stream",
     "text": [
      "debug: ************************ i:  36\n",
      "loss_value:  0.1332424134016037\n",
      "debug: ************************ i:  37\n",
      "loss_value:  0.14029400050640106\n"
     ]
    },
    {
     "data": {
      "text/plain": [
       "Validation:   0%|          | 0/10 [00:00<?, ?it/s]"
      ]
     },
     "metadata": {},
     "output_type": "display_data"
    },
    {
     "name": "stdout",
     "output_type": "stream",
     "text": [
      "debut1: ******************: i:  3\n"
     ]
    },
    {
     "data": {
      "text/plain": [
       "Training:   0%|          | 0/38 [00:00<?, ?it/s]"
      ]
     },
     "metadata": {},
     "output_type": "display_data"
    },
    {
     "name": "stdout",
     "output_type": "stream",
     "text": [
      "debug: ************************ i:  0\n",
      "loss_value:  0.19174933433532715\n"
     ]
    },
    {
     "name": "stdout",
     "output_type": "stream",
     "text": [
      "debug: ************************ i:  1\n",
      "loss_value:  0.1273147165775299\n",
      "debug: ************************ i:  2\n",
      "loss_value:  0.18399597704410553\n"
     ]
    },
    {
     "name": "stdout",
     "output_type": "stream",
     "text": [
      "debug: ************************ i:  3\n",
      "loss_value:  0.12321508675813675\n",
      "debug: ************************ i:  4\n",
      "loss_value:  0.13780595362186432\n"
     ]
    },
    {
     "name": "stdout",
     "output_type": "stream",
     "text": [
      "debug: ************************ i:  5\n",
      "loss_value:  0.1389627605676651\n",
      "debug: ************************ i:  6\n",
      "loss_value:  0.1356617510318756\n"
     ]
    },
    {
     "name": "stdout",
     "output_type": "stream",
     "text": [
      "debug: ************************ i:  7\n",
      "loss_value:  0.15926139056682587\n"
     ]
    },
    {
     "name": "stdout",
     "output_type": "stream",
     "text": [
      "debug: ************************ i:  8\n",
      "loss_value:  0.15085071325302124\n",
      "debug: ************************ i:  9\n",
      "loss_value:  0.1253724992275238\n"
     ]
    },
    {
     "name": "stdout",
     "output_type": "stream",
     "text": [
      "debug: ************************ i:  10\n",
      "loss_value:  0.1308889538049698\n",
      "debug: ************************ i:  11\n",
      "loss_value:  0.1510431319475174\n"
     ]
    },
    {
     "name": "stdout",
     "output_type": "stream",
     "text": [
      "debug: ************************ i:  12\n",
      "loss_value:  0.12448687106370926\n",
      "debug: ************************ i:  13\n",
      "loss_value:  0.13888144493103027\n"
     ]
    },
    {
     "name": "stdout",
     "output_type": "stream",
     "text": [
      "debug: ************************ i:  14\n",
      "loss_value:  0.12155276536941528\n",
      "debug: ************************ i:  15\n",
      "loss_value:  0.1530100405216217\n"
     ]
    },
    {
     "name": "stdout",
     "output_type": "stream",
     "text": [
      "debug: ************************ i:  16\n",
      "loss_value:  0.1462492197751999\n"
     ]
    },
    {
     "name": "stdout",
     "output_type": "stream",
     "text": [
      "debug: ************************ i:  17\n",
      "loss_value:  0.1254286915063858\n",
      "debug: ************************ i:  18\n",
      "loss_value:  0.13631045818328857\n"
     ]
    },
    {
     "name": "stdout",
     "output_type": "stream",
     "text": [
      "debug: ************************ i:  19\n",
      "loss_value:  0.13665549457073212\n"
     ]
    },
    {
     "name": "stdout",
     "output_type": "stream",
     "text": [
      "debug: ************************ i:  20\n",
      "loss_value:  0.13744525611400604\n",
      "debug: ************************ i:  21\n",
      "loss_value:  0.1380593627691269\n"
     ]
    },
    {
     "name": "stdout",
     "output_type": "stream",
     "text": [
      "debug: ************************ i:  22\n",
      "loss_value:  0.12246102094650269\n",
      "debug: ************************ i:  23\n",
      "loss_value:  0.1755082756280899\n"
     ]
    },
    {
     "name": "stdout",
     "output_type": "stream",
     "text": [
      "debug: ************************ i:  24\n",
      "loss_value:  0.12438585609197617\n",
      "debug: ************************ i:  25\n",
      "loss_value:  0.13435296714305878\n"
     ]
    },
    {
     "name": "stdout",
     "output_type": "stream",
     "text": [
      "debug: ************************ i:  26\n",
      "loss_value:  0.10640078783035278\n",
      "debug: ************************ i:  27\n",
      "loss_value:  0.13443942368030548\n"
     ]
    },
    {
     "name": "stdout",
     "output_type": "stream",
     "text": [
      "debug: ************************ i:  28\n",
      "loss_value:  0.12377425283193588\n",
      "debug: ************************ i:  29\n",
      "loss_value:  0.12224458158016205\n"
     ]
    },
    {
     "name": "stdout",
     "output_type": "stream",
     "text": [
      "debug: ************************ i:  30\n",
      "loss_value:  0.1362469494342804\n",
      "debug: ************************ i:  31\n",
      "loss_value:  0.0999583974480629\n"
     ]
    },
    {
     "name": "stdout",
     "output_type": "stream",
     "text": [
      "debug: ************************ i:  32\n",
      "loss_value:  0.11980359256267548\n",
      "debug: ************************ i:  33\n",
      "loss_value:  0.1497441977262497\n"
     ]
    },
    {
     "name": "stdout",
     "output_type": "stream",
     "text": [
      "debug: ************************ i:  34\n",
      "loss_value:  0.09892701357603073\n"
     ]
    },
    {
     "name": "stdout",
     "output_type": "stream",
     "text": [
      "debug: ************************ i:  35\n",
      "loss_value:  0.11474915593862534\n"
     ]
    },
    {
     "name": "stdout",
     "output_type": "stream",
     "text": [
      "debug: ************************ i:  36\n",
      "loss_value:  0.10803139954805374\n",
      "debug: ************************ i:  37\n",
      "loss_value:  0.10932185500860214\n"
     ]
    },
    {
     "data": {
      "text/plain": [
       "Validation:   0%|          | 0/10 [00:00<?, ?it/s]"
      ]
     },
     "metadata": {},
     "output_type": "display_data"
    },
    {
     "name": "stdout",
     "output_type": "stream",
     "text": [
      "debut1: ******************: i:  4\n"
     ]
    },
    {
     "data": {
      "text/plain": [
       "Training:   0%|          | 0/38 [00:00<?, ?it/s]"
      ]
     },
     "metadata": {},
     "output_type": "display_data"
    },
    {
     "name": "stdout",
     "output_type": "stream",
     "text": [
      "debug: ************************ i:  0\n",
      "loss_value:  0.10072840750217438\n"
     ]
    },
    {
     "name": "stdout",
     "output_type": "stream",
     "text": [
      "debug: ************************ i:  1\n",
      "loss_value:  0.11021406948566437\n"
     ]
    },
    {
     "name": "stdout",
     "output_type": "stream",
     "text": [
      "debug: ************************ i:  2\n",
      "loss_value:  0.10435891151428223\n"
     ]
    },
    {
     "name": "stdout",
     "output_type": "stream",
     "text": [
      "debug: ************************ i:  3\n",
      "loss_value:  0.11067935079336166\n"
     ]
    },
    {
     "name": "stdout",
     "output_type": "stream",
     "text": [
      "debug: ************************ i:  4\n",
      "loss_value:  0.10577256232500076\n"
     ]
    },
    {
     "name": "stdout",
     "output_type": "stream",
     "text": [
      "debug: ************************ i:  5\n",
      "loss_value:  0.11890654265880585\n"
     ]
    },
    {
     "name": "stdout",
     "output_type": "stream",
     "text": [
      "debug: ************************ i:  6\n",
      "loss_value:  0.10596191138029099\n"
     ]
    },
    {
     "name": "stdout",
     "output_type": "stream",
     "text": [
      "debug: ************************ i:  7\n",
      "loss_value:  0.0977250412106514\n"
     ]
    },
    {
     "name": "stdout",
     "output_type": "stream",
     "text": [
      "debug: ************************ i:  8\n",
      "loss_value:  0.11269688606262207\n"
     ]
    },
    {
     "name": "stdout",
     "output_type": "stream",
     "text": [
      "debug: ************************ i:  9\n",
      "loss_value:  0.10427150130271912\n"
     ]
    },
    {
     "name": "stdout",
     "output_type": "stream",
     "text": [
      "debug: ************************ i:  10\n",
      "loss_value:  0.1308399736881256\n"
     ]
    },
    {
     "name": "stdout",
     "output_type": "stream",
     "text": [
      "debug: ************************ i:  11\n",
      "loss_value:  0.08860456198453903\n",
      "debug: ************************ i:  12\n",
      "loss_value:  0.12151855230331421\n"
     ]
    },
    {
     "name": "stdout",
     "output_type": "stream",
     "text": [
      "debug: ************************ i:  13\n",
      "loss_value:  0.11428569257259369\n",
      "debug: ************************ i:  14\n",
      "loss_value:  0.09447512775659561\n"
     ]
    },
    {
     "name": "stdout",
     "output_type": "stream",
     "text": [
      "debug: ************************ i:  15\n",
      "loss_value:  0.10332069545984268\n",
      "debug: ************************ i:  16\n",
      "loss_value:  0.09967321902513504\n"
     ]
    },
    {
     "name": "stdout",
     "output_type": "stream",
     "text": [
      "debug: ************************ i:  17\n",
      "loss_value:  0.13417907059192657\n",
      "debug: ************************ i:  18\n",
      "loss_value:  0.11878145486116409\n"
     ]
    },
    {
     "name": "stdout",
     "output_type": "stream",
     "text": [
      "debug: ************************ i:  19\n",
      "loss_value:  0.09624872356653214\n",
      "debug: ************************ i:  20\n",
      "loss_value:  0.10722748190164566\n"
     ]
    },
    {
     "name": "stdout",
     "output_type": "stream",
     "text": [
      "debug: ************************ i:  21\n",
      "loss_value:  0.14352427423000336\n",
      "debug: ************************ i:  22\n",
      "loss_value:  0.11271828413009644\n"
     ]
    },
    {
     "name": "stdout",
     "output_type": "stream",
     "text": [
      "debug: ************************ i:  23\n",
      "loss_value:  0.12750673294067383\n",
      "debug: ************************ i:  24\n",
      "loss_value:  0.0958947166800499\n"
     ]
    },
    {
     "name": "stdout",
     "output_type": "stream",
     "text": [
      "debug: ************************ i:  25\n",
      "loss_value:  0.10363632440567017\n",
      "debug: ************************ i:  26\n",
      "loss_value:  0.10265490412712097\n"
     ]
    },
    {
     "name": "stdout",
     "output_type": "stream",
     "text": [
      "debug: ************************ i:  27\n",
      "loss_value:  0.10593952238559723\n",
      "debug: ************************ i:  28\n",
      "loss_value:  0.10737882554531097\n"
     ]
    },
    {
     "name": "stdout",
     "output_type": "stream",
     "text": [
      "debug: ************************ i:  29\n",
      "loss_value:  0.09435749053955078\n",
      "debug: ************************ i:  30\n",
      "loss_value:  0.08685958385467529\n"
     ]
    },
    {
     "name": "stdout",
     "output_type": "stream",
     "text": [
      "debug: ************************ i:  31\n",
      "loss_value:  0.10308007895946503\n",
      "debug: ************************ i:  32\n",
      "loss_value:  0.10233564674854279\n"
     ]
    },
    {
     "name": "stdout",
     "output_type": "stream",
     "text": [
      "debug: ************************ i:  33\n",
      "loss_value:  0.13542789220809937\n",
      "debug: ************************ i:  34\n",
      "loss_value:  0.11248072981834412\n"
     ]
    },
    {
     "name": "stdout",
     "output_type": "stream",
     "text": [
      "debug: ************************ i:  35\n",
      "loss_value:  0.09139781445264816\n",
      "debug: ************************ i:  36\n",
      "loss_value:  0.08167994022369385\n"
     ]
    },
    {
     "name": "stdout",
     "output_type": "stream",
     "text": [
      "debug: ************************ i:  37\n",
      "loss_value:  0.08716848492622375\n"
     ]
    },
    {
     "data": {
      "text/plain": [
       "Validation:   0%|          | 0/10 [00:00<?, ?it/s]"
      ]
     },
     "metadata": {},
     "output_type": "display_data"
    },
    {
     "name": "stdout",
     "output_type": "stream",
     "text": [
      "debut1: ******************: i:  5\n"
     ]
    },
    {
     "data": {
      "text/plain": [
       "Training:   0%|          | 0/38 [00:00<?, ?it/s]"
      ]
     },
     "metadata": {},
     "output_type": "display_data"
    },
    {
     "name": "stdout",
     "output_type": "stream",
     "text": [
      "debug: ************************ i:  0\n",
      "loss_value:  0.1008048877120018\n",
      "debug: ************************ i:  1\n",
      "loss_value:  0.09755273908376694\n"
     ]
    },
    {
     "name": "stdout",
     "output_type": "stream",
     "text": [
      "debug: ************************ i:  2\n",
      "loss_value:  0.09476727247238159\n",
      "debug: ************************ i:  3\n",
      "loss_value:  0.11095990240573883\n"
     ]
    },
    {
     "name": "stdout",
     "output_type": "stream",
     "text": [
      "debug: ************************ i:  4\n",
      "loss_value:  0.07478845864534378\n",
      "debug: ************************ i:  5\n",
      "loss_value:  0.08384651690721512\n"
     ]
    },
    {
     "name": "stdout",
     "output_type": "stream",
     "text": [
      "debug: ************************ i:  6\n",
      "loss_value:  0.11219271272420883\n"
     ]
    },
    {
     "name": "stdout",
     "output_type": "stream",
     "text": [
      "debug: ************************ i:  7\n",
      "loss_value:  0.1039559543132782\n",
      "debug: ************************ i:  8\n",
      "loss_value:  0.10919271409511566\n"
     ]
    },
    {
     "name": "stdout",
     "output_type": "stream",
     "text": [
      "debug: ************************ i:  9\n",
      "loss_value:  0.12325788289308548\n",
      "debug: ************************ i:  10\n",
      "loss_value:  0.09206527471542358\n"
     ]
    },
    {
     "name": "stdout",
     "output_type": "stream",
     "text": [
      "debug: ************************ i:  11\n",
      "loss_value:  0.10976134240627289\n",
      "debug: ************************ i:  12\n",
      "loss_value:  0.09211176633834839\n"
     ]
    },
    {
     "name": "stdout",
     "output_type": "stream",
     "text": [
      "debug: ************************ i:  13\n",
      "loss_value:  0.11334199458360672\n",
      "debug: ************************ i:  14\n",
      "loss_value:  0.09253791719675064\n"
     ]
    },
    {
     "name": "stdout",
     "output_type": "stream",
     "text": [
      "debug: ************************ i:  15\n",
      "loss_value:  0.08682644367218018\n",
      "debug: ************************ i:  16\n",
      "loss_value:  0.08462940901517868\n"
     ]
    },
    {
     "name": "stdout",
     "output_type": "stream",
     "text": [
      "debug: ************************ i:  17\n",
      "loss_value:  0.09821698069572449\n",
      "debug: ************************ i:  18\n",
      "loss_value:  0.11326658725738525\n"
     ]
    },
    {
     "name": "stdout",
     "output_type": "stream",
     "text": [
      "debug: ************************ i:  19\n",
      "loss_value:  0.08254244923591614\n",
      "debug: ************************ i:  20\n",
      "loss_value:  0.09843434393405914\n"
     ]
    },
    {
     "name": "stdout",
     "output_type": "stream",
     "text": [
      "debug: ************************ i:  21\n",
      "loss_value:  0.08315443992614746\n",
      "debug: ************************ i:  22\n",
      "loss_value:  0.07594415545463562\n"
     ]
    },
    {
     "name": "stdout",
     "output_type": "stream",
     "text": [
      "debug: ************************ i:  23\n",
      "loss_value:  0.08348516374826431\n",
      "debug: ************************ i:  24\n",
      "loss_value:  0.08550158143043518\n"
     ]
    },
    {
     "name": "stdout",
     "output_type": "stream",
     "text": [
      "debug: ************************ i:  25\n",
      "loss_value:  0.10662589222192764\n",
      "debug: ************************ i:  26\n",
      "loss_value:  0.0837341845035553\n"
     ]
    },
    {
     "name": "stdout",
     "output_type": "stream",
     "text": [
      "debug: ************************ i:  27\n",
      "loss_value:  0.11053374409675598\n",
      "debug: ************************ i:  28\n",
      "loss_value:  0.08447997272014618\n"
     ]
    },
    {
     "name": "stdout",
     "output_type": "stream",
     "text": [
      "debug: ************************ i:  29\n",
      "loss_value:  0.08027838915586472\n",
      "debug: ************************ i:  30\n",
      "loss_value:  0.08411576598882675\n"
     ]
    },
    {
     "name": "stdout",
     "output_type": "stream",
     "text": [
      "debug: ************************ i:  31\n",
      "loss_value:  0.08097361773252487\n",
      "debug: ************************ i:  32\n",
      "loss_value:  0.07861015200614929\n"
     ]
    },
    {
     "name": "stdout",
     "output_type": "stream",
     "text": [
      "debug: ************************ i:  33\n",
      "loss_value:  0.0891522616147995\n"
     ]
    },
    {
     "name": "stdout",
     "output_type": "stream",
     "text": [
      "debug: ************************ i:  34\n",
      "loss_value:  0.07126335799694061\n"
     ]
    },
    {
     "name": "stdout",
     "output_type": "stream",
     "text": [
      "debug: ************************ i:  35\n",
      "loss_value:  0.07041850686073303\n",
      "debug: ************************ i:  36\n",
      "loss_value:  0.07702463120222092\n"
     ]
    },
    {
     "name": "stdout",
     "output_type": "stream",
     "text": [
      "debug: ************************ i:  37\n",
      "loss_value:  0.07795257121324539\n"
     ]
    },
    {
     "data": {
      "text/plain": [
       "Validation:   0%|          | 0/10 [00:00<?, ?it/s]"
      ]
     },
     "metadata": {},
     "output_type": "display_data"
    },
    {
     "name": "stdout",
     "output_type": "stream",
     "text": [
      "debut1: ******************: i:  6\n"
     ]
    },
    {
     "data": {
      "text/plain": [
       "Training:   0%|          | 0/38 [00:00<?, ?it/s]"
      ]
     },
     "metadata": {},
     "output_type": "display_data"
    },
    {
     "name": "stdout",
     "output_type": "stream",
     "text": [
      "debug: ************************ i:  0\n",
      "loss_value:  0.07433426380157471\n"
     ]
    },
    {
     "name": "stdout",
     "output_type": "stream",
     "text": [
      "debug: ************************ i:  1\n",
      "loss_value:  0.10503064095973969\n",
      "debug: ************************ i:  2\n",
      "loss_value:  0.09316704422235489\n"
     ]
    },
    {
     "name": "stdout",
     "output_type": "stream",
     "text": [
      "debug: ************************ i:  3\n",
      "loss_value:  0.07467444986104965\n",
      "debug: ************************ i:  4\n",
      "loss_value:  0.07565329968929291\n"
     ]
    },
    {
     "name": "stdout",
     "output_type": "stream",
     "text": [
      "debug: ************************ i:  5\n",
      "loss_value:  0.08366361260414124\n",
      "debug: ************************ i:  6\n",
      "loss_value:  0.0721607655286789\n"
     ]
    },
    {
     "name": "stdout",
     "output_type": "stream",
     "text": [
      "debug: ************************ i:  7\n",
      "loss_value:  0.06680484861135483\n",
      "debug: ************************ i:  8\n",
      "loss_value:  0.08218572288751602\n"
     ]
    },
    {
     "name": "stdout",
     "output_type": "stream",
     "text": [
      "debug: ************************ i:  9\n",
      "loss_value:  0.07570168375968933\n",
      "debug: ************************ i:  10\n",
      "loss_value:  0.08218523859977722\n"
     ]
    },
    {
     "name": "stdout",
     "output_type": "stream",
     "text": [
      "debug: ************************ i:  11\n",
      "loss_value:  0.08095212280750275\n",
      "debug: ************************ i:  12\n",
      "loss_value:  0.07199625670909882\n"
     ]
    },
    {
     "name": "stdout",
     "output_type": "stream",
     "text": [
      "debug: ************************ i:  13\n",
      "loss_value:  0.07055957615375519\n",
      "debug: ************************ i:  14\n",
      "loss_value:  0.07740078866481781\n"
     ]
    },
    {
     "name": "stdout",
     "output_type": "stream",
     "text": [
      "debug: ************************ i:  15\n",
      "loss_value:  0.06976978480815887\n",
      "debug: ************************ i:  16\n",
      "loss_value:  0.08195758610963821\n"
     ]
    },
    {
     "name": "stdout",
     "output_type": "stream",
     "text": [
      "debug: ************************ i:  17\n",
      "loss_value:  0.10522390902042389\n",
      "debug: ************************ i:  18\n",
      "loss_value:  0.07334081828594208\n"
     ]
    },
    {
     "name": "stdout",
     "output_type": "stream",
     "text": [
      "debug: ************************ i:  19\n",
      "loss_value:  0.06737253814935684\n",
      "debug: ************************ i:  20\n",
      "loss_value:  0.07092513889074326\n"
     ]
    },
    {
     "name": "stdout",
     "output_type": "stream",
     "text": [
      "debug: ************************ i:  21\n",
      "loss_value:  0.07856062054634094\n",
      "debug: ************************ i:  22\n",
      "loss_value:  0.0831977128982544\n"
     ]
    },
    {
     "name": "stdout",
     "output_type": "stream",
     "text": [
      "debug: ************************ i:  23\n",
      "loss_value:  0.08320389688014984\n",
      "debug: ************************ i:  24\n",
      "loss_value:  0.09821507334709167\n"
     ]
    },
    {
     "name": "stdout",
     "output_type": "stream",
     "text": [
      "debug: ************************ i:  25\n",
      "loss_value:  0.09363706409931183\n",
      "debug: ************************ i:  26\n",
      "loss_value:  0.08099678158760071\n"
     ]
    },
    {
     "name": "stdout",
     "output_type": "stream",
     "text": [
      "debug: ************************ i:  27\n",
      "loss_value:  0.06882967799901962\n",
      "debug: ************************ i:  28\n",
      "loss_value:  0.06350202858448029\n"
     ]
    },
    {
     "name": "stdout",
     "output_type": "stream",
     "text": [
      "debug: ************************ i:  29\n",
      "loss_value:  0.07945941388607025\n"
     ]
    },
    {
     "name": "stdout",
     "output_type": "stream",
     "text": [
      "debug: ************************ i:  30\n",
      "loss_value:  0.0831446424126625\n"
     ]
    },
    {
     "name": "stdout",
     "output_type": "stream",
     "text": [
      "debug: ************************ i:  31\n",
      "loss_value:  0.06535730510950089\n"
     ]
    },
    {
     "name": "stdout",
     "output_type": "stream",
     "text": [
      "debug: ************************ i:  32\n",
      "loss_value:  0.0786486491560936\n"
     ]
    },
    {
     "name": "stdout",
     "output_type": "stream",
     "text": [
      "debug: ************************ i:  33\n",
      "loss_value:  0.08308972418308258\n",
      "debug: ************************ i:  34\n",
      "loss_value:  0.08036927878856659\n"
     ]
    },
    {
     "name": "stdout",
     "output_type": "stream",
     "text": [
      "debug: ************************ i:  35\n",
      "loss_value:  0.08521133661270142\n",
      "debug: ************************ i:  36\n",
      "loss_value:  0.08018992096185684\n"
     ]
    },
    {
     "name": "stdout",
     "output_type": "stream",
     "text": [
      "debug: ************************ i:  37\n",
      "loss_value:  0.0732276663184166\n"
     ]
    },
    {
     "data": {
      "text/plain": [
       "Validation:   0%|          | 0/10 [00:00<?, ?it/s]"
      ]
     },
     "metadata": {},
     "output_type": "display_data"
    },
    {
     "name": "stdout",
     "output_type": "stream",
     "text": [
      "debut1: ******************: i:  7\n"
     ]
    },
    {
     "data": {
      "text/plain": [
       "Training:   0%|          | 0/38 [00:00<?, ?it/s]"
      ]
     },
     "metadata": {},
     "output_type": "display_data"
    },
    {
     "name": "stdout",
     "output_type": "stream",
     "text": [
      "debug: ************************ i:  0\n",
      "loss_value:  0.06906148791313171\n",
      "debug: ************************ i:  1\n",
      "loss_value:  0.08364646881818771\n"
     ]
    },
    {
     "name": "stdout",
     "output_type": "stream",
     "text": [
      "debug: ************************ i:  2\n",
      "loss_value:  0.07348328083753586\n",
      "debug: ************************ i:  3\n",
      "loss_value:  0.06255511939525604\n"
     ]
    },
    {
     "name": "stdout",
     "output_type": "stream",
     "text": [
      "debug: ************************ i:  4\n",
      "loss_value:  0.06899319589138031\n",
      "debug: ************************ i:  5\n",
      "loss_value:  0.06132694333791733\n"
     ]
    },
    {
     "name": "stdout",
     "output_type": "stream",
     "text": [
      "debug: ************************ i:  6\n",
      "loss_value:  0.07326117902994156\n",
      "debug: ************************ i:  7\n",
      "loss_value:  0.07951368391513824\n"
     ]
    },
    {
     "name": "stdout",
     "output_type": "stream",
     "text": [
      "debug: ************************ i:  8\n",
      "loss_value:  0.07174085825681686\n",
      "debug: ************************ i:  9\n",
      "loss_value:  0.07395092397928238\n"
     ]
    },
    {
     "name": "stdout",
     "output_type": "stream",
     "text": [
      "debug: ************************ i:  10\n",
      "loss_value:  0.08390989899635315\n",
      "debug: ************************ i:  11\n",
      "loss_value:  0.06116778403520584\n"
     ]
    },
    {
     "name": "stdout",
     "output_type": "stream",
     "text": [
      "debug: ************************ i:  12\n",
      "loss_value:  0.06134990602731705\n",
      "debug: ************************ i:  13\n",
      "loss_value:  0.07602297514677048\n"
     ]
    },
    {
     "name": "stdout",
     "output_type": "stream",
     "text": [
      "debug: ************************ i:  14\n",
      "loss_value:  0.06772870570421219\n"
     ]
    },
    {
     "name": "stdout",
     "output_type": "stream",
     "text": [
      "debug: ************************ i:  15\n",
      "loss_value:  0.06740890443325043\n",
      "debug: ************************ i:  16\n",
      "loss_value:  0.07171616703271866\n"
     ]
    },
    {
     "name": "stdout",
     "output_type": "stream",
     "text": [
      "debug: ************************ i:  17\n",
      "loss_value:  0.0838000625371933\n"
     ]
    },
    {
     "name": "stdout",
     "output_type": "stream",
     "text": [
      "debug: ************************ i:  18\n",
      "loss_value:  0.06393115967512131\n",
      "debug: ************************ i:  19\n",
      "loss_value:  0.09562218189239502\n"
     ]
    },
    {
     "name": "stdout",
     "output_type": "stream",
     "text": [
      "debug: ************************ i:  20\n",
      "loss_value:  0.06377394497394562\n",
      "debug: ************************ i:  21\n",
      "loss_value:  0.06347572803497314\n"
     ]
    },
    {
     "name": "stdout",
     "output_type": "stream",
     "text": [
      "debug: ************************ i:  22\n",
      "loss_value:  0.06846544146537781\n",
      "debug: ************************ i:  23\n",
      "loss_value:  0.08875170350074768\n"
     ]
    },
    {
     "name": "stdout",
     "output_type": "stream",
     "text": [
      "debug: ************************ i:  24\n",
      "loss_value:  0.06460881978273392\n",
      "debug: ************************ i:  25\n",
      "loss_value:  0.07518815249204636\n"
     ]
    },
    {
     "name": "stdout",
     "output_type": "stream",
     "text": [
      "debug: ************************ i:  26\n",
      "loss_value:  0.07805314660072327\n",
      "debug: ************************ i:  27\n",
      "loss_value:  0.0693221315741539\n"
     ]
    },
    {
     "name": "stdout",
     "output_type": "stream",
     "text": [
      "debug: ************************ i:  28\n",
      "loss_value:  0.07387618720531464\n",
      "debug: ************************ i:  29\n",
      "loss_value:  0.08141551166772842\n"
     ]
    },
    {
     "name": "stdout",
     "output_type": "stream",
     "text": [
      "debug: ************************ i:  30\n",
      "loss_value:  0.07568719238042831\n",
      "debug: ************************ i:  31\n",
      "loss_value:  0.07138445228338242\n"
     ]
    },
    {
     "name": "stdout",
     "output_type": "stream",
     "text": [
      "debug: ************************ i:  32\n",
      "loss_value:  0.07566049695014954\n",
      "debug: ************************ i:  33\n",
      "loss_value:  0.07517872005701065\n"
     ]
    },
    {
     "name": "stdout",
     "output_type": "stream",
     "text": [
      "debug: ************************ i:  34\n",
      "loss_value:  0.06479784846305847\n",
      "debug: ************************ i:  35\n",
      "loss_value:  0.0593724325299263\n"
     ]
    },
    {
     "name": "stdout",
     "output_type": "stream",
     "text": [
      "debug: ************************ i:  36\n",
      "loss_value:  0.08700022846460342\n",
      "debug: ************************ i:  37\n",
      "loss_value:  0.0670841708779335\n"
     ]
    },
    {
     "data": {
      "text/plain": [
       "Validation:   0%|          | 0/10 [00:00<?, ?it/s]"
      ]
     },
     "metadata": {},
     "output_type": "display_data"
    },
    {
     "name": "stdout",
     "output_type": "stream",
     "text": [
      "debut1: ******************: i:  8\n"
     ]
    },
    {
     "data": {
      "text/plain": [
       "Training:   0%|          | 0/38 [00:00<?, ?it/s]"
      ]
     },
     "metadata": {},
     "output_type": "display_data"
    },
    {
     "name": "stdout",
     "output_type": "stream",
     "text": [
      "debug: ************************ i:  0\n",
      "loss_value:  0.05496973544359207\n",
      "debug: ************************ i:  1\n",
      "loss_value:  0.06299497932195663\n"
     ]
    },
    {
     "name": "stdout",
     "output_type": "stream",
     "text": [
      "debug: ************************ i:  2\n",
      "loss_value:  0.06451790779829025\n",
      "debug: ************************ i:  3\n",
      "loss_value:  0.1048973798751831\n"
     ]
    },
    {
     "name": "stdout",
     "output_type": "stream",
     "text": [
      "debug: ************************ i:  4\n",
      "loss_value:  0.0701148733496666\n",
      "debug: ************************ i:  5\n",
      "loss_value:  0.06524422019720078\n"
     ]
    },
    {
     "name": "stdout",
     "output_type": "stream",
     "text": [
      "debug: ************************ i:  6\n",
      "loss_value:  0.06150152161717415\n",
      "debug: ************************ i:  7\n",
      "loss_value:  0.06081456318497658\n"
     ]
    },
    {
     "name": "stdout",
     "output_type": "stream",
     "text": [
      "debug: ************************ i:  8\n",
      "loss_value:  0.056039199233055115\n",
      "debug: ************************ i:  9\n",
      "loss_value:  0.07868508994579315\n"
     ]
    },
    {
     "name": "stdout",
     "output_type": "stream",
     "text": [
      "debug: ************************ i:  10\n",
      "loss_value:  0.0685233324766159\n",
      "debug: ************************ i:  11\n",
      "loss_value:  0.06241283938288689\n"
     ]
    },
    {
     "name": "stdout",
     "output_type": "stream",
     "text": [
      "debug: ************************ i:  12\n",
      "loss_value:  0.06346344947814941\n",
      "debug: ************************ i:  13\n",
      "loss_value:  0.060519590973854065\n"
     ]
    },
    {
     "name": "stdout",
     "output_type": "stream",
     "text": [
      "debug: ************************ i:  14\n",
      "loss_value:  0.0687859058380127\n",
      "debug: ************************ i:  15\n",
      "loss_value:  0.058557868003845215\n"
     ]
    },
    {
     "name": "stdout",
     "output_type": "stream",
     "text": [
      "debug: ************************ i:  16\n",
      "loss_value:  0.05973923206329346\n",
      "debug: ************************ i:  17\n",
      "loss_value:  0.07104329019784927\n"
     ]
    },
    {
     "name": "stdout",
     "output_type": "stream",
     "text": [
      "debug: ************************ i:  18\n",
      "loss_value:  0.06987204402685165\n",
      "debug: ************************ i:  19\n",
      "loss_value:  0.05992681160569191\n"
     ]
    },
    {
     "name": "stdout",
     "output_type": "stream",
     "text": [
      "debug: ************************ i:  20\n",
      "loss_value:  0.06139616295695305\n",
      "debug: ************************ i:  21\n",
      "loss_value:  0.05923169478774071\n"
     ]
    },
    {
     "name": "stdout",
     "output_type": "stream",
     "text": [
      "debug: ************************ i:  22\n",
      "loss_value:  0.0688650831580162\n",
      "debug: ************************ i:  23\n",
      "loss_value:  0.05905428156256676\n"
     ]
    },
    {
     "name": "stdout",
     "output_type": "stream",
     "text": [
      "debug: ************************ i:  24\n",
      "loss_value:  0.06322131305932999\n",
      "debug: ************************ i:  25\n",
      "loss_value:  0.06112150475382805\n"
     ]
    },
    {
     "name": "stdout",
     "output_type": "stream",
     "text": [
      "debug: ************************ i:  26\n",
      "loss_value:  0.06087309122085571\n",
      "debug: ************************ i:  27\n",
      "loss_value:  0.0676056370139122\n"
     ]
    },
    {
     "name": "stdout",
     "output_type": "stream",
     "text": [
      "debug: ************************ i:  28\n",
      "loss_value:  0.0764215961098671\n",
      "debug: ************************ i:  29\n",
      "loss_value:  0.07474374026060104\n"
     ]
    },
    {
     "name": "stdout",
     "output_type": "stream",
     "text": [
      "debug: ************************ i:  30\n",
      "loss_value:  0.07111945748329163\n",
      "debug: ************************ i:  31\n",
      "loss_value:  0.05873291939496994\n"
     ]
    },
    {
     "name": "stdout",
     "output_type": "stream",
     "text": [
      "debug: ************************ i:  32\n",
      "loss_value:  0.07139737904071808\n"
     ]
    },
    {
     "name": "stdout",
     "output_type": "stream",
     "text": [
      "debug: ************************ i:  33\n",
      "loss_value:  0.059168193489313126\n"
     ]
    },
    {
     "name": "stdout",
     "output_type": "stream",
     "text": [
      "debug: ************************ i:  34\n",
      "loss_value:  0.06463310867547989\n"
     ]
    },
    {
     "name": "stdout",
     "output_type": "stream",
     "text": [
      "debug: ************************ i:  35\n",
      "loss_value:  0.05856398493051529\n",
      "debug: ************************ i:  36\n",
      "loss_value:  0.06157130002975464\n"
     ]
    },
    {
     "name": "stdout",
     "output_type": "stream",
     "text": [
      "debug: ************************ i:  37\n",
      "loss_value:  0.05892946571111679\n"
     ]
    },
    {
     "data": {
      "text/plain": [
       "Validation:   0%|          | 0/10 [00:00<?, ?it/s]"
      ]
     },
     "metadata": {},
     "output_type": "display_data"
    },
    {
     "name": "stdout",
     "output_type": "stream",
     "text": [
      "debut1: ******************: i:  9\n"
     ]
    },
    {
     "data": {
      "text/plain": [
       "Training:   0%|          | 0/38 [00:00<?, ?it/s]"
      ]
     },
     "metadata": {},
     "output_type": "display_data"
    },
    {
     "name": "stdout",
     "output_type": "stream",
     "text": [
      "debug: ************************ i:  0\n",
      "loss_value:  0.058795031160116196\n",
      "debug: ************************ i:  1\n",
      "loss_value:  0.06363420188426971\n"
     ]
    },
    {
     "name": "stdout",
     "output_type": "stream",
     "text": [
      "debug: ************************ i:  2\n",
      "loss_value:  0.053648125380277634\n",
      "debug: ************************ i:  3\n",
      "loss_value:  0.058419693261384964\n"
     ]
    },
    {
     "name": "stdout",
     "output_type": "stream",
     "text": [
      "debug: ************************ i:  4\n",
      "loss_value:  0.0820760503411293\n",
      "debug: ************************ i:  5\n",
      "loss_value:  0.07034990191459656\n"
     ]
    },
    {
     "name": "stdout",
     "output_type": "stream",
     "text": [
      "debug: ************************ i:  6\n",
      "loss_value:  0.09340869635343552\n",
      "debug: ************************ i:  7\n",
      "loss_value:  0.05726923793554306\n"
     ]
    },
    {
     "name": "stdout",
     "output_type": "stream",
     "text": [
      "debug: ************************ i:  8\n",
      "loss_value:  0.06272585690021515\n",
      "debug: ************************ i:  9\n",
      "loss_value:  0.059960104525089264\n"
     ]
    },
    {
     "name": "stdout",
     "output_type": "stream",
     "text": [
      "debug: ************************ i:  10\n",
      "loss_value:  0.069569431245327\n"
     ]
    },
    {
     "name": "stdout",
     "output_type": "stream",
     "text": [
      "debug: ************************ i:  11\n",
      "loss_value:  0.06220221891999245\n",
      "debug: ************************ i:  12\n",
      "loss_value:  0.04937975853681564\n"
     ]
    },
    {
     "name": "stdout",
     "output_type": "stream",
     "text": [
      "debug: ************************ i:  13\n",
      "loss_value:  0.058730702847242355\n",
      "debug: ************************ i:  14\n",
      "loss_value:  0.06278292089700699\n"
     ]
    },
    {
     "name": "stdout",
     "output_type": "stream",
     "text": [
      "debug: ************************ i:  15\n",
      "loss_value:  0.06160571053624153\n",
      "debug: ************************ i:  16\n",
      "loss_value:  0.052172936499118805\n"
     ]
    },
    {
     "name": "stdout",
     "output_type": "stream",
     "text": [
      "debug: ************************ i:  17\n",
      "loss_value:  0.06773386895656586\n",
      "debug: ************************ i:  18\n",
      "loss_value:  0.06213635951280594\n"
     ]
    },
    {
     "name": "stdout",
     "output_type": "stream",
     "text": [
      "debug: ************************ i:  19\n",
      "loss_value:  0.05737359821796417\n"
     ]
    },
    {
     "name": "stdout",
     "output_type": "stream",
     "text": [
      "debug: ************************ i:  20\n",
      "loss_value:  0.05081365630030632\n"
     ]
    },
    {
     "name": "stdout",
     "output_type": "stream",
     "text": [
      "debug: ************************ i:  21\n",
      "loss_value:  0.06080878898501396\n",
      "debug: ************************ i:  22\n",
      "loss_value:  0.06652306765317917\n"
     ]
    },
    {
     "name": "stdout",
     "output_type": "stream",
     "text": [
      "debug: ************************ i:  23\n",
      "loss_value:  0.05111290141940117\n",
      "debug: ************************ i:  24\n",
      "loss_value:  0.0548415370285511\n"
     ]
    },
    {
     "name": "stdout",
     "output_type": "stream",
     "text": [
      "debug: ************************ i:  25\n",
      "loss_value:  0.06450000405311584\n"
     ]
    },
    {
     "name": "stdout",
     "output_type": "stream",
     "text": [
      "debug: ************************ i:  26\n",
      "loss_value:  0.0540311299264431\n",
      "debug: ************************ i:  27\n",
      "loss_value:  0.0611182264983654\n"
     ]
    },
    {
     "name": "stdout",
     "output_type": "stream",
     "text": [
      "debug: ************************ i:  28\n",
      "loss_value:  0.059626612812280655\n",
      "debug: ************************ i:  29\n",
      "loss_value:  0.060251664370298386\n"
     ]
    },
    {
     "name": "stdout",
     "output_type": "stream",
     "text": [
      "debug: ************************ i:  30\n",
      "loss_value:  0.05683227255940437\n",
      "debug: ************************ i:  31\n",
      "loss_value:  0.05392416939139366\n"
     ]
    },
    {
     "name": "stdout",
     "output_type": "stream",
     "text": [
      "debug: ************************ i:  32\n",
      "loss_value:  0.05808994174003601\n",
      "debug: ************************ i:  33\n",
      "loss_value:  0.07251407206058502\n"
     ]
    },
    {
     "name": "stdout",
     "output_type": "stream",
     "text": [
      "debug: ************************ i:  34\n",
      "loss_value:  0.059465937316417694\n",
      "debug: ************************ i:  35\n",
      "loss_value:  0.05003677308559418\n"
     ]
    },
    {
     "name": "stdout",
     "output_type": "stream",
     "text": [
      "debug: ************************ i:  36\n",
      "loss_value:  0.05213525891304016\n",
      "debug: ************************ i:  37\n",
      "loss_value:  0.05594966933131218\n"
     ]
    },
    {
     "data": {
      "text/plain": [
       "Validation:   0%|          | 0/10 [00:00<?, ?it/s]"
      ]
     },
     "metadata": {},
     "output_type": "display_data"
    }
   ],
   "source": [
    "# device\n",
    "if torch.cuda.is_available():\n",
    "    device = torch.device('cuda')\n",
    "else:\n",
    "    device = torch.device('cpu')\n",
    "\n",
    "# model\n",
    "model = UNet(in_channels=3,\n",
    "             out_channels=2,\n",
    "             n_blocks=4,\n",
    "             start_filters=32,\n",
    "             activation='relu',\n",
    "             normalization='batch',\n",
    "             conv_mode='same',\n",
    "             dim=2).to(device)\n",
    "\n",
    "# criterion\n",
    "criterion = torch.nn.CrossEntropyLoss()\n",
    "\n",
    "# optimizer\n",
    "optimizer = torch.optim.SGD(model.parameters(), lr=0.01)\n",
    "\n",
    "# trainer\n",
    "trainer = Trainer(model=model,\n",
    "                  device=device,\n",
    "                  criterion=criterion,\n",
    "                  optimizer=optimizer,\n",
    "                  training_DataLoader=dataloader_training,\n",
    "                  validation_DataLoader=dataloader_validation,\n",
    "                  lr_scheduler=None,\n",
    "                  epochs=10,\n",
    "                  epoch=0,\n",
    "                  notebook=True)\n",
    "\n",
    "# start training\n",
    "training_losses, validation_losses, lr_rates = trainer.run_trainer()"
   ]
  },
  {
   "cell_type": "markdown",
   "metadata": {
    "ein.tags": "worksheet-0",
    "slideshow": {
     "slide_type": "-"
    }
   },
   "source": [
    "## Save the model"
   ]
  },
  {
   "cell_type": "code",
   "execution_count": 15,
   "metadata": {
    "autoscroll": false,
    "collapsed": false,
    "ein.hycell": false,
    "ein.tags": "worksheet-0",
    "jupyter": {
     "outputs_hidden": false
    },
    "pycharm": {
     "name": "#%%\n"
    },
    "slideshow": {
     "slide_type": "-"
    }
   },
   "outputs": [],
   "source": [
    "# save the model\n",
    "model_name =  'carvana_model.pt'\n",
    "torch.save(model.state_dict(), pathlib.Path.cwd() / model_name)"
   ]
  },
  {
   "cell_type": "markdown",
   "metadata": {
    "ein.tags": "worksheet-0",
    "slideshow": {
     "slide_type": "-"
    }
   },
   "source": [
    "# Learning rate finder"
   ]
  },
  {
   "cell_type": "code",
   "execution_count": 16,
   "metadata": {
    "autoscroll": false,
    "collapsed": false,
    "ein.hycell": false,
    "ein.tags": "worksheet-0",
    "slideshow": {
     "slide_type": "-"
    }
   },
   "outputs": [],
   "source": [
    "# device\n",
    "if torch.cuda.is_available():\n",
    "    device = torch.device('cuda')\n",
    "else:\n",
    "    device = torch.device('cpu')\n",
    "\n",
    "# model\n",
    "model = UNet(in_channels=3,\n",
    "             out_channels=2,\n",
    "             n_blocks=4,\n",
    "             start_filters=32,\n",
    "             activation='relu',\n",
    "             normalization='batch',\n",
    "             conv_mode='same',\n",
    "             dim=2).to(device)\n",
    "\n",
    "# criterion\n",
    "criterion = torch.nn.CrossEntropyLoss()\n",
    "\n",
    "# optimizer\n",
    "optimizer = torch.optim.SGD(model.parameters(), lr=0.01)"
   ]
  },
  {
   "cell_type": "code",
   "execution_count": 17,
   "metadata": {
    "autoscroll": false,
    "collapsed": false,
    "ein.hycell": false,
    "ein.tags": "worksheet-0",
    "slideshow": {
     "slide_type": "-"
    }
   },
   "outputs": [
    {
     "data": {
      "text/plain": [
       "Progress:   0%|          | 0/27 [00:00<?, ?it/s]"
      ]
     },
     "metadata": {},
     "output_type": "display_data"
    },
    {
     "data": {
      "text/plain": [
       "Training:   0%|          | 0/38 [00:00<?, ?it/s]"
      ]
     },
     "metadata": {},
     "output_type": "display_data"
    },
    {
     "data": {
      "text/plain": [
       "Training:   0%|          | 0/38 [00:00<?, ?it/s]"
      ]
     },
     "metadata": {},
     "output_type": "display_data"
    },
    {
     "data": {
      "text/plain": [
       "Training:   0%|          | 0/38 [00:00<?, ?it/s]"
      ]
     },
     "metadata": {},
     "output_type": "display_data"
    },
    {
     "data": {
      "text/plain": [
       "Training:   0%|          | 0/38 [00:00<?, ?it/s]"
      ]
     },
     "metadata": {},
     "output_type": "display_data"
    },
    {
     "data": {
      "text/plain": [
       "Training:   0%|          | 0/38 [00:00<?, ?it/s]"
      ]
     },
     "metadata": {},
     "output_type": "display_data"
    },
    {
     "data": {
      "text/plain": [
       "Training:   0%|          | 0/38 [00:00<?, ?it/s]"
      ]
     },
     "metadata": {},
     "output_type": "display_data"
    },
    {
     "data": {
      "text/plain": [
       "Training:   0%|          | 0/38 [00:00<?, ?it/s]"
      ]
     },
     "metadata": {},
     "output_type": "display_data"
    },
    {
     "data": {
      "text/plain": [
       "Training:   0%|          | 0/38 [00:00<?, ?it/s]"
      ]
     },
     "metadata": {},
     "output_type": "display_data"
    },
    {
     "data": {
      "text/plain": [
       "Training:   0%|          | 0/38 [00:00<?, ?it/s]"
      ]
     },
     "metadata": {},
     "output_type": "display_data"
    },
    {
     "data": {
      "text/plain": [
       "Training:   0%|          | 0/38 [00:00<?, ?it/s]"
      ]
     },
     "metadata": {},
     "output_type": "display_data"
    },
    {
     "data": {
      "text/plain": [
       "Training:   0%|          | 0/38 [00:00<?, ?it/s]"
      ]
     },
     "metadata": {},
     "output_type": "display_data"
    },
    {
     "data": {
      "text/plain": [
       "Training:   0%|          | 0/38 [00:00<?, ?it/s]"
      ]
     },
     "metadata": {},
     "output_type": "display_data"
    },
    {
     "data": {
      "text/plain": [
       "Training:   0%|          | 0/38 [00:00<?, ?it/s]"
      ]
     },
     "metadata": {},
     "output_type": "display_data"
    },
    {
     "data": {
      "text/plain": [
       "Training:   0%|          | 0/38 [00:00<?, ?it/s]"
      ]
     },
     "metadata": {},
     "output_type": "display_data"
    },
    {
     "data": {
      "text/plain": [
       "Training:   0%|          | 0/38 [00:00<?, ?it/s]"
      ]
     },
     "metadata": {},
     "output_type": "display_data"
    },
    {
     "data": {
      "text/plain": [
       "Training:   0%|          | 0/38 [00:00<?, ?it/s]"
      ]
     },
     "metadata": {},
     "output_type": "display_data"
    },
    {
     "data": {
      "text/plain": [
       "Training:   0%|          | 0/38 [00:00<?, ?it/s]"
      ]
     },
     "metadata": {},
     "output_type": "display_data"
    },
    {
     "data": {
      "text/plain": [
       "Training:   0%|          | 0/38 [00:00<?, ?it/s]"
      ]
     },
     "metadata": {},
     "output_type": "display_data"
    },
    {
     "data": {
      "text/plain": [
       "Training:   0%|          | 0/38 [00:00<?, ?it/s]"
      ]
     },
     "metadata": {},
     "output_type": "display_data"
    },
    {
     "data": {
      "text/plain": [
       "Training:   0%|          | 0/38 [00:00<?, ?it/s]"
      ]
     },
     "metadata": {},
     "output_type": "display_data"
    },
    {
     "data": {
      "text/plain": [
       "Training:   0%|          | 0/38 [00:00<?, ?it/s]"
      ]
     },
     "metadata": {},
     "output_type": "display_data"
    },
    {
     "data": {
      "text/plain": [
       "Training:   0%|          | 0/38 [00:00<?, ?it/s]"
      ]
     },
     "metadata": {},
     "output_type": "display_data"
    },
    {
     "data": {
      "text/plain": [
       "Training:   0%|          | 0/38 [00:00<?, ?it/s]"
      ]
     },
     "metadata": {},
     "output_type": "display_data"
    },
    {
     "data": {
      "text/plain": [
       "Training:   0%|          | 0/38 [00:00<?, ?it/s]"
      ]
     },
     "metadata": {},
     "output_type": "display_data"
    },
    {
     "data": {
      "text/plain": [
       "Training:   0%|          | 0/38 [00:00<?, ?it/s]"
      ]
     },
     "metadata": {},
     "output_type": "display_data"
    },
    {
     "data": {
      "text/plain": [
       "Training:   0%|          | 0/38 [00:00<?, ?it/s]"
      ]
     },
     "metadata": {},
     "output_type": "display_data"
    },
    {
     "data": {
      "text/plain": [
       "Training:   0%|          | 0/38 [00:00<?, ?it/s]"
      ]
     },
     "metadata": {},
     "output_type": "display_data"
    }
   ],
   "source": [
    "from lr_rate_finder import LearningRateFinder\n",
    "lrf = LearningRateFinder(model, criterion, optimizer, device)\n",
    "lrf.fit(dataloader_training, steps=1000)"
   ]
  },
  {
   "cell_type": "code",
   "execution_count": 18,
   "metadata": {
    "autoscroll": false,
    "collapsed": false,
    "ein.hycell": false,
    "ein.tags": "worksheet-0",
    "slideshow": {
     "slide_type": "-"
    }
   },
   "outputs": [
    {
     "data": {
      "image/png": "[encoded data removed]",
      "text/plain": [
       "<Figure size 432x288 with 1 Axes>"
      ]
     },
     "metadata": {},
     "output_type": "display_data"
    }
   ],
   "source": [
    "lrf.plot()"
   ]
  },
  {
   "cell_type": "markdown",
   "metadata": {
    "ein.tags": "worksheet-0",
    "slideshow": {
     "slide_type": "-"
    }
   },
   "source": [
    "# Plot results"
   ]
  },
  {
   "cell_type": "code",
   "execution_count": null,
   "metadata": {
    "autoscroll": false,
    "collapsed": false,
    "ein.hycell": false,
    "ein.tags": "worksheet-0",
    "slideshow": {
     "slide_type": "-"
    }
   },
   "outputs": [],
   "source": [
    "from visual import plot_training\n",
    "fig = plot_training(training_losses, validation_losses, lr_rates, gaussian=True, sigma=1, figsize=(10, 4))"
   ]
  }
 ],
 "metadata": {
  "kernelspec": {
   "argv": [
    "/root/anaconda3/envs/PytorchUnetPy38/bin/python",
    "-m",
    "ipykernel_launcher",
    "-f",
    "{connection_file}"
   ],
   "display_name": "Python 3",
   "env": null,
   "interrupt_mode": "signal",
   "language": "python",
   "metadata": null,
   "name": "python3"
  },
  "language_info": {
   "codemirror_mode": {
    "name": "ipython",
    "version": 3
   },
   "file_extension": ".py",
   "mimetype": "text/x-python",
   "name": "python",
   "nbconvert_exporter": "python",
   "pygments_lexer": "ipython3",
   "version": "3.8.8"
  },
  "name": "Part3.ipynb"
 },
 "nbformat": 4,
 "nbformat_minor": 4
}
