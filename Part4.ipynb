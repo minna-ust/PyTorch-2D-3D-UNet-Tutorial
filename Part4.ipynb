{
 "cells": [
  {
   "cell_type": "code",
   "execution_count": 10,
   "metadata": {
    "autoscroll": false,
    "collapsed": false,
    "ein.hycell": false,
    "ein.tags": "worksheet-0",
    "slideshow": {
     "slide_type": "-"
    }
   },
   "outputs": [],
   "source": [
    "# Imports\n",
    "import pathlib\n",
    "\n",
    "import numpy as np\n",
    "import torch\n",
    "from skimage.io import imread\n",
    "from skimage.transform import resize\n",
    "\n",
    "from inference import predict\n",
    "from transformations import normalize_01, re_normalize\n",
    "from unet import UNet\n",
    "\n",
    "# root directory\n",
    "# root = pathlib.Path.cwd() / 'Carvana' / 'Test'\n",
    "root = pathlib.Path.cwd() / 'Door' / 'Test'\n",
    "def get_filenames_of_path(path: pathlib.Path, ext: str = '*'):\n",
    "    \"\"\"Returns a list of files in a directory/path. Uses pathlib.\"\"\"\n",
    "    filenames = [file for file in path.glob(ext) if file.is_file()]\n",
    "    return filenames\n",
    "\n",
    "# input and target files\n",
    "images_names = get_filenames_of_path(root / 'Input')\n",
    "targets_names = get_filenames_of_path(root / 'Target')\n",
    "\n",
    "# read images and store them in memory\n",
    "images = [imread(img_name) for img_name in images_names]\n",
    "targets = [imread(tar_name) for tar_name in targets_names]\n",
    "\n",
    "# Resize images and targets\n",
    "# images_res = [resize(img, (128, 128, 3)) for img in images]\n",
    "# resize_kwargs = {'order': 0, 'anti_aliasing': False, 'preserve_range': True}\n",
    "# targets_res = [resize(tar, (128, 128), **resize_kwargs) for tar in targets]\n",
    "images_res = images\n",
    "targets_res = targets"
   ]
  },
  {
   "cell_type": "code",
   "execution_count": 11,
   "metadata": {
    "autoscroll": false,
    "collapsed": false,
    "ein.hycell": false,
    "ein.tags": "worksheet-0",
    "slideshow": {
     "slide_type": "-"
    }
   },
   "outputs": [
    {
     "data": {
      "text/plain": [
       "<All keys matched successfully>"
      ]
     },
     "execution_count": 11,
     "metadata": {},
     "output_type": "execute_result"
    }
   ],
   "source": [
    "# device\n",
    "if torch.cuda.is_available():\n",
    "    device = torch.device('cuda')\n",
    "else:\n",
    "    device = torch.device('cpu')\n",
    "\n",
    "# model\n",
    "model = UNet(in_channels=1,\n",
    "             out_channels=2,\n",
    "             n_blocks=4,\n",
    "             start_filters=32,\n",
    "             activation='relu',\n",
    "             normalization='batch',\n",
    "             conv_mode='same',\n",
    "             dim=2).to(device)\n",
    "\n",
    "\n",
    "# model_name = 'carvana_model.pt'\n",
    "model_name = 'door_model.pt'\n",
    "model_weights = torch.load(pathlib.Path.cwd() / model_name)\n",
    "\n",
    "model.load_state_dict(model_weights)"
   ]
  },
  {
   "cell_type": "code",
   "execution_count": 17,
   "metadata": {
    "autoscroll": false,
    "collapsed": false,
    "ein.hycell": false,
    "ein.tags": "worksheet-0",
    "pycharm": {
     "name": "#%%\n"
    },
    "slideshow": {
     "slide_type": "-"
    }
   },
   "outputs": [],
   "source": [
    "# preprocess function\n",
    "def preprocess(img: np.ndarray):\n",
    "    # img = np.moveaxis(img, -1, 0)  # from [H, W, C] to [C, H, W]\n",
    "    img = np.expand_dims(img, axis=0)\n",
    "    print(img.shape)\n",
    "    img = normalize_01(img)  # linear scaling to range [0-1]\n",
    "    img = np.expand_dims(img, axis=0)  # add batch dimension [B, C, H, W]\n",
    "    img = img.astype(np.float32)  # typecasting to float32\n",
    "    return img\n",
    "\n",
    "\n",
    "# postprocess function\n",
    "def postprocess(img: torch.tensor):\n",
    "    img = torch.argmax(img, dim=1)  # perform argmax to generate 1 channel\n",
    "    img = img.cpu().numpy()  # send to cpu and transform to numpy.ndarray\n",
    "    img = np.squeeze(img)  # remove batch dim and channel dim -> [H, W]\n",
    "    img = re_normalize(img)  # scale it to the range [0-255]\n",
    "    return img\n"
   ]
  },
  {
   "cell_type": "code",
   "execution_count": 18,
   "metadata": {
    "autoscroll": false,
    "collapsed": false,
    "ein.hycell": false,
    "ein.tags": "worksheet-0",
    "pycharm": {
     "name": "#%%\n"
    },
    "slideshow": {
     "slide_type": "-"
    }
   },
   "outputs": [
    {
     "name": "stdout",
     "output_type": "stream",
     "text": [
      "(1, 64, 64)\n",
      "[array([[0, 0, 0, ..., 0, 0, 0],\n",
      "       [0, 0, 0, ..., 0, 0, 0],\n",
      "       [0, 0, 0, ..., 0, 0, 0],\n",
      "       ...,\n",
      "       [0, 0, 0, ..., 0, 0, 0],\n",
      "       [0, 0, 0, ..., 0, 0, 0],\n",
      "       [0, 0, 0, ..., 0, 0, 0]], dtype=uint8)]\n"
     ]
    }
   ],
   "source": [
    "# predict the segmentation maps \n",
    "output = [predict(img, model, preprocess, postprocess, device) for img in images_res]\n",
    "print(output)"
   ]
  },
  {
   "cell_type": "code",
   "execution_count": 21,
   "metadata": {
    "autoscroll": false,
    "collapsed": false,
    "ein.hycell": false,
    "ein.tags": "worksheet-0",
    "slideshow": {
     "slide_type": "-"
    }
   },
   "outputs": [],
   "source": [
    "from visual import enable_gui_qt\n",
    "enable_gui_qt()\n",
    "import napari\n",
    "\n",
    "viewer = napari.Viewer()\n",
    "\n",
    "idx = 0\n",
    "img_nap = viewer.add_image(images_res[idx], name='Input')\n",
    "tar_nap = viewer.add_labels(targets_res[idx], name='Target')\n",
    "out_nap = viewer.add_labels(output[idx], name='Prediction')"
   ]
  },
  {
   "cell_type": "code",
   "execution_count": null,
   "metadata": {
    "autoscroll": false,
    "collapsed": false,
    "ein.hycell": false,
    "ein.tags": "worksheet-0",
    "slideshow": {
     "slide_type": "-"
    }
   },
   "outputs": [],
   "source": []
  }
 ],
 "metadata": {
  "kernelspec": {
   "argv": [
    "/root/anaconda3/envs/PytorchUnetPy38/bin/python",
    "-m",
    "ipykernel_launcher",
    "-f",
    "{connection_file}"
   ],
   "display_name": "Python 3",
   "env": null,
   "interrupt_mode": "signal",
   "language": "python",
   "metadata": null,
   "name": "python3"
  },
  "language_info": {
   "codemirror_mode": {
    "name": "ipython",
    "version": 3
   },
   "file_extension": ".py",
   "mimetype": "text/x-python",
   "name": "python",
   "nbconvert_exporter": "python",
   "pygments_lexer": "ipython3",
   "version": "3.8.8"
  },
  "name": "Part4.ipynb"
 },
 "nbformat": 4,
 "nbformat_minor": 4
}
